{
 "cells": [
  {
   "cell_type": "code",
   "execution_count": 1,
   "metadata": {},
   "outputs": [],
   "source": [
    "import os\n",
    "import socket\n",
    "from gp.actors.data import (\n",
    "    DataActor,\n",
    "    DataActorArgs,\n",
    "    DBActor,\n",
    "    DBActorArgs,\n",
    "    KGDBArgs,\n",
    "    KGName,\n",
    ")\n",
    "from libactor.storage._global_storage import GlobalStorage\n",
    "from experiments.config import DATABASE_DIR, LIBACTOR_STORAGE_DIR\n",
    "from gpp.llm.qa_llm import ExplicitV100, Schema\n",
    "from gpp.actors.qa_llm_actor import QALLMActor, QALLMActorArgs\n",
    "from sm.misc.funcs import get_classpath\n",
    "from libactor.cache import IdentObj\n",
    "from tqdm import tqdm\n",
    "from gp.actors.data import KGDB\n",
    "from gp.misc.evaluation.evaluator import Evaluator\n",
    "from experiments.dag import *"
   ]
  },
  {
   "cell_type": "code",
   "execution_count": 2,
   "metadata": {},
   "outputs": [
    {
     "name": "stderr",
     "output_type": "stream",
     "text": [
      "\u001b[32m2025-05-04 17:30:50.058\u001b[0m | \u001b[1mINFO    \u001b[0m | \u001b[36mlibactor.storage._global_storage\u001b[0m:\u001b[36minit\u001b[0m:\u001b[36m41\u001b[0m - \u001b[1mGlobalStorage: /Users/rook/workspace/projects/resm-v2/data/libactor\u001b[0m\n"
     ]
    },
    {
     "data": {
      "text/plain": [
       "<libactor.storage._global_storage.GlobalStorage at 0x14edeb770>"
      ]
     },
     "execution_count": 2,
     "metadata": {},
     "output_type": "execute_result"
    }
   ],
   "source": [
    "os.environ[\"HF_REMOTE\"] = \"http://localhost:31171\"\n",
    "GlobalStorage.init(LIBACTOR_STORAGE_DIR)"
   ]
  },
  {
   "cell_type": "code",
   "execution_count": 3,
   "metadata": {},
   "outputs": [],
   "source": [
    "data_actor = create_data_actor()"
   ]
  },
  {
   "cell_type": "code",
   "execution_count": 4,
   "metadata": {},
   "outputs": [],
   "source": [
    "from gp.actors.data import GPExample\n",
    "from gp.actors.el.canreg import CanRegActor, CanRegActorArgs, OracleCanReg\n",
    "from gp.entity_linking.candidate_recognition import HeuristicCanReg\n",
    "from kgdata.models.ontology import Ontology\n",
    "from libactor.dag import DAG, Flow, Cardinality\n",
    "from libactor.cache import BackendFactory, cache\n",
    "from libactor.cache.identitied_object import IdentObj\n",
    "from libactor.misc import identity\n",
    "from sm.misc.ray_helper import get_instance\n",
    "\n",
    "dag = create_gpp_dag(\n",
    "    {\n",
    "        # \"data\": data_actor,\n",
    "        # \"table\": Flow(\"data\", identity, Cardinality.ONE_TO_MANY),\n",
    "        \"table\": [get_table, remove_unknown_columns],\n",
    "        \"canreg\": Flow(\n",
    "            \"table\",\n",
    "            CanRegActor(\n",
    "                CanRegActorArgs(\n",
    "                    clspath=get_classpath(HeuristicCanReg),\n",
    "                    clsargs={},\n",
    "                )\n",
    "            ),\n",
    "        ),\n",
    "        \"sm\": Flow(\n",
    "            [\"table\", \"canreg\"],\n",
    "            QALLMActor(\n",
    "                QALLMActorArgs(\n",
    "                    model=get_classpath(ExplicitV100),\n",
    "                    model_args={\"model\": \"meta-llama/Meta-Llama-3.1-8B-Instruct\"},\n",
    "                    sample_size=100,\n",
    "                    seed=42,\n",
    "                    can_ask_for_correction=True,\n",
    "                )\n",
    "            ),\n",
    "        ),\n",
    "    },\n",
    ")"
   ]
  },
  {
   "cell_type": "code",
   "execution_count": 5,
   "metadata": {},
   "outputs": [
    {
     "name": "stderr",
     "output_type": "stream",
     "text": [
      "\u001b[32m2025-05-04 17:30:57.738\u001b[0m | \u001b[34m\u001b[1mDEBUG   \u001b[0m | \u001b[36mtimer\u001b[0m:\u001b[36mwatch_and_report\u001b[0m:\u001b[36m74\u001b[0m - \u001b[34m\u001b[1mDataActor.load_dataset deserialize: 0.199 seconds\u001b[0m\n"
     ]
    }
   ],
   "source": [
    "dataset_name = \"wt250\"\n",
    "kgdb = data_actor.get_kgdb(dataset_name)\n",
    "examples = data_actor.load_dataset(dataset_name)"
   ]
  },
  {
   "cell_type": "code",
   "execution_count": 6,
   "metadata": {},
   "outputs": [
    {
     "name": "stderr",
     "output_type": "stream",
     "text": [
      "dag parallel processing:   0%|          | 0/250 [00:00<?, ?it/s]2025-05-04 17:31:02.986 | INFO     | libactor.storage._global_storage:init:41 - GlobalStorage: /Users/rook/workspace/projects/resm-v2/data/libactor\n",
      "2025-05-04 17:31:02.986 | INFO     | libactor.storage._global_storage:init:41 - GlobalStorage: /Users/rook/workspace/projects/resm-v2/data/libactor\n",
      "2025-05-04 17:31:03.194 | DEBUG    | timer:watch_and_report:74 - DataActor.load_dataset deserialize: 0.207 seconds\n",
      "2025-05-04 17:31:03.194 | DEBUG    | timer:watch_and_report:74 - DataActor.load_dataset deserialize: 0.207 seconds\n",
      "2025-05-04 17:31:03.235 | DEBUG    | gpp.actors.qa_llm_actor:get_agent:89 - Working directory for agent: /Users/rook/workspace/projects/resm-v2/data/libactor/QALLMActor_100/00d4e04c\n",
      "2025-05-04 17:31:03.235 | DEBUG    | gpp.actors.qa_llm_actor:get_agent:89 - Working directory for agent: /Users/rook/workspace/projects/resm-v2/data/libactor/QALLMActor_100/00d4e04c\n",
      "dag parallel processing: 100%|██████████| 250/250 [00:04<00:00, 52.68it/s]\n"
     ]
    }
   ],
   "source": [
    "contextfn = get_gpp_context(data_actor, dataset_name)\n",
    "output = dag.par_process(\n",
    "    [{\"table\": (ex,)} for ex in examples],\n",
    "    {\"sm\", \"table\"},\n",
    "    [contextfn for _ in examples],\n",
    "    n_jobs=2,\n",
    ")"
   ]
  },
  {
   "cell_type": "code",
   "execution_count": 7,
   "metadata": {},
   "outputs": [
    {
     "data": {
      "text/plain": [
       "'wt250__11th_Lok_Sabha'"
      ]
     },
     "metadata": {},
     "output_type": "display_data"
    },
    {
     "data": {
      "application/vnd.microsoft.datawrangler.viewer.v0+json": {
       "columns": [
        {
         "name": "index",
         "rawType": "int64",
         "type": "integer"
        },
        {
         "name": "Constituency",
         "rawType": "object",
         "type": "string"
        },
        {
         "name": "Name of Elected M.P.",
         "rawType": "object",
         "type": "string"
        },
        {
         "name": "Party Affiliation",
         "rawType": "object",
         "type": "string"
        }
       ],
       "conversionMethod": "pd.DataFrame",
       "ref": "95154c3e-a803-420d-8b04-e4a78419dbf5",
       "rows": [
        [
         "0",
         "Bidar",
         "Ramchandra Veerappa",
         "Bharatiya Janata Party"
        ],
        [
         "1",
         "Gulbarga",
         "Qamar ul Islam",
         "Janata Dal"
        ],
        [
         "2",
         "Raichur",
         "Raja Rangappa Naik",
         "Janata Dal"
        ],
        [
         "3",
         "Koppal",
         "Basavaraj Rayareddy",
         "Janata Dal"
        ],
        [
         "4",
         "Bellary",
         "K.C. Kondaiah",
         "Indian National Congress"
        ],
        [
         "5",
         "Davangere",
         "Gowdar Mallikarjunappa",
         "Bharatiya Janata Party"
        ],
        [
         "6",
         "Chitradurga",
         "Puli Kodandaramaiah",
         "Janata Dal"
        ],
        [
         "7",
         "Tumkur",
         "C.N. Bhaskarappa",
         "Janata Dal"
        ],
        [
         "8",
         "Chikballapur",
         "R.L. Jalappa",
         "Janata Dal"
        ],
        [
         "9",
         "Kolar",
         "K.H. Muniyappa",
         "Indian National Congress"
        ],
        [
         "10",
         "Kanakapura",
         "H. D. Kumaraswamy",
         "Janata Dal"
        ],
        [
         "11",
         "Bangalore North",
         "C. Narayanaswamy",
         "IJanata Dal"
        ],
        [
         "12",
         "Bangalore South",
         "Ananth Kumar",
         "Bharatiya Janata Party"
        ],
        [
         "13",
         "Mandya",
         "Ambareesh",
         "Janata Dal"
        ],
        [
         "14",
         "Chamarajanagar",
         "Siddaraju A.",
         "Janata Dal"
        ],
        [
         "15",
         "Mysore",
         "Srikanta Datta Narsimharaja Wodeyar",
         "Indian National Congress"
        ],
        [
         "16",
         "Mangalore",
         "Dhananjay Kumar",
         "Bharatiya Janata Party"
        ],
        [
         "17",
         "Udupi",
         "Oscar Fernandes",
         "Indian National Congress"
        ],
        [
         "18",
         "Hassan",
         "Rudresh Gowda",
         "Janata Dal"
        ],
        [
         "19",
         "Chikmagalur",
         "B. L. Shankar",
         "Janata Dal"
        ],
        [
         "20",
         "Shimoga",
         "S. Bangarappa",
         "Indian National Congress"
        ],
        [
         "21",
         "Kanara",
         "Ananth Kumar Hegde",
         "Bharatiya Janata Party"
        ],
        [
         "22",
         "Dharwad South",
         "Imam Sanadi",
         "Indian National Congress"
        ],
        [
         "23",
         "Dharwad North",
         "Vijay Sankeshwar",
         "Bharatiya Janata Party"
        ],
        [
         "24",
         "Belgaum",
         "Shivanand Hemappa Koujalgi",
         "Janata Dal"
        ],
        [
         "25",
         "Chikkodi",
         "Ratnamala D. Savanoor",
         "Janata Dal"
        ],
        [
         "26",
         "Bagalkot",
         "H. Y. Meti",
         "Janata Dal"
        ],
        [
         "27",
         "Bijapur",
         "Basanagouda Patil Yatnal",
         "Bharatiya Janata Party"
        ]
       ],
       "shape": {
        "columns": 3,
        "rows": 28
       }
      },
      "text/html": [
       "<div>\n",
       "<style scoped>\n",
       "    .dataframe tbody tr th:only-of-type {\n",
       "        vertical-align: middle;\n",
       "    }\n",
       "\n",
       "    .dataframe tbody tr th {\n",
       "        vertical-align: top;\n",
       "    }\n",
       "\n",
       "    .dataframe thead th {\n",
       "        text-align: right;\n",
       "    }\n",
       "</style>\n",
       "<table border=\"1\" class=\"dataframe\">\n",
       "  <thead>\n",
       "    <tr style=\"text-align: right;\">\n",
       "      <th></th>\n",
       "      <th>Constituency</th>\n",
       "      <th>Name of Elected M.P.</th>\n",
       "      <th>Party Affiliation</th>\n",
       "    </tr>\n",
       "  </thead>\n",
       "  <tbody>\n",
       "    <tr>\n",
       "      <th>0</th>\n",
       "      <td>Bidar</td>\n",
       "      <td>Ramchandra Veerappa</td>\n",
       "      <td>Bharatiya Janata Party</td>\n",
       "    </tr>\n",
       "    <tr>\n",
       "      <th>1</th>\n",
       "      <td>Gulbarga</td>\n",
       "      <td>Qamar ul Islam</td>\n",
       "      <td>Janata Dal</td>\n",
       "    </tr>\n",
       "    <tr>\n",
       "      <th>2</th>\n",
       "      <td>Raichur</td>\n",
       "      <td>Raja Rangappa Naik</td>\n",
       "      <td>Janata Dal</td>\n",
       "    </tr>\n",
       "    <tr>\n",
       "      <th>3</th>\n",
       "      <td>Koppal</td>\n",
       "      <td>Basavaraj Rayareddy</td>\n",
       "      <td>Janata Dal</td>\n",
       "    </tr>\n",
       "    <tr>\n",
       "      <th>4</th>\n",
       "      <td>Bellary</td>\n",
       "      <td>K.C. Kondaiah</td>\n",
       "      <td>Indian National Congress</td>\n",
       "    </tr>\n",
       "    <tr>\n",
       "      <th>5</th>\n",
       "      <td>Davangere</td>\n",
       "      <td>Gowdar Mallikarjunappa</td>\n",
       "      <td>Bharatiya Janata Party</td>\n",
       "    </tr>\n",
       "    <tr>\n",
       "      <th>6</th>\n",
       "      <td>Chitradurga</td>\n",
       "      <td>Puli Kodandaramaiah</td>\n",
       "      <td>Janata Dal</td>\n",
       "    </tr>\n",
       "    <tr>\n",
       "      <th>7</th>\n",
       "      <td>Tumkur</td>\n",
       "      <td>C.N. Bhaskarappa</td>\n",
       "      <td>Janata Dal</td>\n",
       "    </tr>\n",
       "    <tr>\n",
       "      <th>8</th>\n",
       "      <td>Chikballapur</td>\n",
       "      <td>R.L. Jalappa</td>\n",
       "      <td>Janata Dal</td>\n",
       "    </tr>\n",
       "    <tr>\n",
       "      <th>9</th>\n",
       "      <td>Kolar</td>\n",
       "      <td>K.H. Muniyappa</td>\n",
       "      <td>Indian National Congress</td>\n",
       "    </tr>\n",
       "    <tr>\n",
       "      <th>10</th>\n",
       "      <td>Kanakapura</td>\n",
       "      <td>H. D. Kumaraswamy</td>\n",
       "      <td>Janata Dal</td>\n",
       "    </tr>\n",
       "    <tr>\n",
       "      <th>11</th>\n",
       "      <td>Bangalore North</td>\n",
       "      <td>C. Narayanaswamy</td>\n",
       "      <td>IJanata Dal</td>\n",
       "    </tr>\n",
       "    <tr>\n",
       "      <th>12</th>\n",
       "      <td>Bangalore South</td>\n",
       "      <td>Ananth Kumar</td>\n",
       "      <td>Bharatiya Janata Party</td>\n",
       "    </tr>\n",
       "    <tr>\n",
       "      <th>13</th>\n",
       "      <td>Mandya</td>\n",
       "      <td>Ambareesh</td>\n",
       "      <td>Janata Dal</td>\n",
       "    </tr>\n",
       "    <tr>\n",
       "      <th>14</th>\n",
       "      <td>Chamarajanagar</td>\n",
       "      <td>Siddaraju A.</td>\n",
       "      <td>Janata Dal</td>\n",
       "    </tr>\n",
       "    <tr>\n",
       "      <th>15</th>\n",
       "      <td>Mysore</td>\n",
       "      <td>Srikanta Datta Narsimharaja Wodeyar</td>\n",
       "      <td>Indian National Congress</td>\n",
       "    </tr>\n",
       "    <tr>\n",
       "      <th>16</th>\n",
       "      <td>Mangalore</td>\n",
       "      <td>Dhananjay Kumar</td>\n",
       "      <td>Bharatiya Janata Party</td>\n",
       "    </tr>\n",
       "    <tr>\n",
       "      <th>17</th>\n",
       "      <td>Udupi</td>\n",
       "      <td>Oscar Fernandes</td>\n",
       "      <td>Indian National Congress</td>\n",
       "    </tr>\n",
       "    <tr>\n",
       "      <th>18</th>\n",
       "      <td>Hassan</td>\n",
       "      <td>Rudresh Gowda</td>\n",
       "      <td>Janata Dal</td>\n",
       "    </tr>\n",
       "    <tr>\n",
       "      <th>19</th>\n",
       "      <td>Chikmagalur</td>\n",
       "      <td>B. L. Shankar</td>\n",
       "      <td>Janata Dal</td>\n",
       "    </tr>\n",
       "    <tr>\n",
       "      <th>20</th>\n",
       "      <td>Shimoga</td>\n",
       "      <td>S. Bangarappa</td>\n",
       "      <td>Indian National Congress</td>\n",
       "    </tr>\n",
       "    <tr>\n",
       "      <th>21</th>\n",
       "      <td>Kanara</td>\n",
       "      <td>Ananth Kumar Hegde</td>\n",
       "      <td>Bharatiya Janata Party</td>\n",
       "    </tr>\n",
       "    <tr>\n",
       "      <th>22</th>\n",
       "      <td>Dharwad South</td>\n",
       "      <td>Imam Sanadi</td>\n",
       "      <td>Indian National Congress</td>\n",
       "    </tr>\n",
       "    <tr>\n",
       "      <th>23</th>\n",
       "      <td>Dharwad North</td>\n",
       "      <td>Vijay Sankeshwar</td>\n",
       "      <td>Bharatiya Janata Party</td>\n",
       "    </tr>\n",
       "    <tr>\n",
       "      <th>24</th>\n",
       "      <td>Belgaum</td>\n",
       "      <td>Shivanand Hemappa Koujalgi</td>\n",
       "      <td>Janata Dal</td>\n",
       "    </tr>\n",
       "    <tr>\n",
       "      <th>25</th>\n",
       "      <td>Chikkodi</td>\n",
       "      <td>Ratnamala D. Savanoor</td>\n",
       "      <td>Janata Dal</td>\n",
       "    </tr>\n",
       "    <tr>\n",
       "      <th>26</th>\n",
       "      <td>Bagalkot</td>\n",
       "      <td>H. Y. Meti</td>\n",
       "      <td>Janata Dal</td>\n",
       "    </tr>\n",
       "    <tr>\n",
       "      <th>27</th>\n",
       "      <td>Bijapur</td>\n",
       "      <td>Basanagouda Patil Yatnal</td>\n",
       "      <td>Bharatiya Janata Party</td>\n",
       "    </tr>\n",
       "  </tbody>\n",
       "</table>\n",
       "</div>"
      ],
      "text/plain": [
       "       Constituency                 Name of Elected M.P.  \\\n",
       "0             Bidar                  Ramchandra Veerappa   \n",
       "1          Gulbarga                       Qamar ul Islam   \n",
       "2           Raichur                   Raja Rangappa Naik   \n",
       "3            Koppal                  Basavaraj Rayareddy   \n",
       "4           Bellary                        K.C. Kondaiah   \n",
       "5         Davangere               Gowdar Mallikarjunappa   \n",
       "6       Chitradurga                  Puli Kodandaramaiah   \n",
       "7            Tumkur                     C.N. Bhaskarappa   \n",
       "8      Chikballapur                         R.L. Jalappa   \n",
       "9             Kolar                       K.H. Muniyappa   \n",
       "10       Kanakapura                    H. D. Kumaraswamy   \n",
       "11  Bangalore North                     C. Narayanaswamy   \n",
       "12  Bangalore South                         Ananth Kumar   \n",
       "13           Mandya                            Ambareesh   \n",
       "14   Chamarajanagar                         Siddaraju A.   \n",
       "15           Mysore  Srikanta Datta Narsimharaja Wodeyar   \n",
       "16        Mangalore                      Dhananjay Kumar   \n",
       "17            Udupi                      Oscar Fernandes   \n",
       "18           Hassan                        Rudresh Gowda   \n",
       "19      Chikmagalur                        B. L. Shankar   \n",
       "20          Shimoga                        S. Bangarappa   \n",
       "21           Kanara                   Ananth Kumar Hegde   \n",
       "22    Dharwad South                          Imam Sanadi   \n",
       "23    Dharwad North                     Vijay Sankeshwar   \n",
       "24          Belgaum           Shivanand Hemappa Koujalgi   \n",
       "25         Chikkodi                Ratnamala D. Savanoor   \n",
       "26         Bagalkot                           H. Y. Meti   \n",
       "27          Bijapur             Basanagouda Patil Yatnal   \n",
       "\n",
       "           Party Affiliation  \n",
       "0     Bharatiya Janata Party  \n",
       "1                 Janata Dal  \n",
       "2                 Janata Dal  \n",
       "3                 Janata Dal  \n",
       "4   Indian National Congress  \n",
       "5     Bharatiya Janata Party  \n",
       "6                 Janata Dal  \n",
       "7                 Janata Dal  \n",
       "8                 Janata Dal  \n",
       "9   Indian National Congress  \n",
       "10                Janata Dal  \n",
       "11               IJanata Dal  \n",
       "12    Bharatiya Janata Party  \n",
       "13                Janata Dal  \n",
       "14                Janata Dal  \n",
       "15  Indian National Congress  \n",
       "16    Bharatiya Janata Party  \n",
       "17  Indian National Congress  \n",
       "18                Janata Dal  \n",
       "19                Janata Dal  \n",
       "20  Indian National Congress  \n",
       "21    Bharatiya Janata Party  \n",
       "22  Indian National Congress  \n",
       "23    Bharatiya Janata Party  \n",
       "24                Janata Dal  \n",
       "25                Janata Dal  \n",
       "26                Janata Dal  \n",
       "27    Bharatiya Janata Party  "
      ]
     },
     "metadata": {},
     "output_type": "display_data"
    },
    {
     "data": {
      "application/vnd.jupyter.widget-view+json": {
       "model_id": "2a941d1a84d443b79761f64c70c91691",
       "version_major": 2,
       "version_minor": 0
      },
      "text/plain": [
       "HTML(value='<pre>\\n00.\\t<span style=\"background: #b7eb8f; color: black; padding: 2px; border-radius: 3px;\">[0]…"
      ]
     },
     "metadata": {},
     "output_type": "display_data"
    }
   ],
   "source": [
    "assert [ex.id for ex in examples] == [exout[\"table\"][0].value.id for exout in output]\n",
    "display(output[0][\"table\"][0].value.id)\n",
    "display(output[0][\"table\"][0].value.table.table.df)\n",
    "output[0][\"sm\"][0].value.print(env=\"notebook\")"
   ]
  },
  {
   "cell_type": "code",
   "execution_count": 8,
   "metadata": {},
   "outputs": [],
   "source": [
    "import serde.json\n",
    "\n",
    "from experiments.config import DATA_DIR\n",
    "from experiments.misc import get_notebook_output_file\n",
    "\n",
    "outfile = get_notebook_output_file(DATA_DIR / \"experiments\", 4, \".json\")\n",
    "serde.json.ser(\n",
    "    {x[\"table\"][0].value.id: x[\"sm\"][0].value.to_dict() for x in output},\n",
    "    outfile,\n",
    "    indent=2,\n",
    ")"
   ]
  },
  {
   "cell_type": "code",
   "execution_count": 9,
   "metadata": {},
   "outputs": [],
   "source": [
    "evaluator = Evaluator(kgdb.ontology.value, kgdb.pydb.entity_labels.cache())"
   ]
  },
  {
   "cell_type": "code",
   "execution_count": 10,
   "metadata": {},
   "outputs": [
    {
     "name": "stderr",
     "output_type": "stream",
     "text": [
      "\u001b[32m2025-05-04 17:31:22.593\u001b[0m | \u001b[1mINFO    \u001b[0m | \u001b[36mgp.misc.evaluation.evaluator\u001b[0m:\u001b[36mavg_cta\u001b[0m:\u001b[36m104\u001b[0m - \u001b[1mfor copying...\n",
      "\tcta-p\tcta-r\tcta-f1\n",
      "63.78,64.53,63.83\u001b[0m\n",
      "\u001b[32m2025-05-04 17:31:22.620\u001b[0m | \u001b[1mINFO    \u001b[0m | \u001b[36msm.evaluation.sm_metrics\u001b[0m:\u001b[36mprecision_recall_f1\u001b[0m:\u001b[36m620\u001b[0m - \u001b[1mNumber of permutation is: 116280.0\u001b[0m\n",
      "\u001b[32m2025-05-04 17:31:22.620\u001b[0m | \u001b[31m\u001b[1mERROR   \u001b[0m | \u001b[36msm.evaluation.sm_metrics\u001b[0m:\u001b[36mprecision_recall_f1\u001b[0m:\u001b[36m626\u001b[0m - \u001b[31m\u001b[1mPermutation explosion: got 116280.0 combinations from 1 pair groups\u001b[0m\n",
      "\u001b[32m2025-05-04 17:31:22.621\u001b[0m | \u001b[1mINFO    \u001b[0m | \u001b[36msm.evaluation.sm_metrics\u001b[0m:\u001b[36mprecision_recall_f1\u001b[0m:\u001b[36m632\u001b[0m - \u001b[1m- [(label=http://wikiba.se/ontology#Statement, X=(#nodes=4), X_prime=(#nodes=20))]\u001b[0m\n",
      "\u001b[32m2025-05-04 17:31:22.621\u001b[0m | \u001b[1mINFO    \u001b[0m | \u001b[36msm.evaluation.sm_metrics\u001b[0m:\u001b[36mprecision_recall_f1\u001b[0m:\u001b[36m620\u001b[0m - \u001b[1mNumber of permutation is: 116280.0\u001b[0m\n",
      "\u001b[32m2025-05-04 17:31:22.622\u001b[0m | \u001b[31m\u001b[1mERROR   \u001b[0m | \u001b[36msm.evaluation.sm_metrics\u001b[0m:\u001b[36mprecision_recall_f1\u001b[0m:\u001b[36m626\u001b[0m - \u001b[31m\u001b[1mPermutation explosion: got 116280.0 combinations from 1 pair groups\u001b[0m\n",
      "\u001b[32m2025-05-04 17:31:22.622\u001b[0m | \u001b[1mINFO    \u001b[0m | \u001b[36msm.evaluation.sm_metrics\u001b[0m:\u001b[36mprecision_recall_f1\u001b[0m:\u001b[36m632\u001b[0m - \u001b[1m- [(label=http://wikiba.se/ontology#Statement, X=(#nodes=4), X_prime=(#nodes=20))]\u001b[0m\n",
      "\u001b[32m2025-05-04 17:31:22.730\u001b[0m | \u001b[1mINFO    \u001b[0m | \u001b[36msm.evaluation.sm_metrics\u001b[0m:\u001b[36mprecision_recall_f1\u001b[0m:\u001b[36m620\u001b[0m - \u001b[1mNumber of permutation is: 371090522880.0\u001b[0m\n",
      "\u001b[32m2025-05-04 17:31:22.731\u001b[0m | \u001b[31m\u001b[1mERROR   \u001b[0m | \u001b[36msm.evaluation.sm_metrics\u001b[0m:\u001b[36mprecision_recall_f1\u001b[0m:\u001b[36m626\u001b[0m - \u001b[31m\u001b[1mPermutation explosion: got 371090522880.0 combinations from 1 pair groups\u001b[0m\n",
      "\u001b[32m2025-05-04 17:31:22.731\u001b[0m | \u001b[1mINFO    \u001b[0m | \u001b[36msm.evaluation.sm_metrics\u001b[0m:\u001b[36mprecision_recall_f1\u001b[0m:\u001b[36m632\u001b[0m - \u001b[1m- [(label=http://wikiba.se/ontology#Statement, X=(#nodes=7), X_prime=(#nodes=48))]\u001b[0m\n",
      "\u001b[32m2025-05-04 17:31:22.732\u001b[0m | \u001b[1mINFO    \u001b[0m | \u001b[36msm.evaluation.sm_metrics\u001b[0m:\u001b[36mprecision_recall_f1\u001b[0m:\u001b[36m620\u001b[0m - \u001b[1mNumber of permutation is: 371090522880.0\u001b[0m\n",
      "\u001b[32m2025-05-04 17:31:22.732\u001b[0m | \u001b[31m\u001b[1mERROR   \u001b[0m | \u001b[36msm.evaluation.sm_metrics\u001b[0m:\u001b[36mprecision_recall_f1\u001b[0m:\u001b[36m626\u001b[0m - \u001b[31m\u001b[1mPermutation explosion: got 371090522880.0 combinations from 1 pair groups\u001b[0m\n",
      "\u001b[32m2025-05-04 17:31:22.732\u001b[0m | \u001b[1mINFO    \u001b[0m | \u001b[36msm.evaluation.sm_metrics\u001b[0m:\u001b[36mprecision_recall_f1\u001b[0m:\u001b[36m632\u001b[0m - \u001b[1m- [(label=http://wikiba.se/ontology#Statement, X=(#nodes=7), X_prime=(#nodes=48))]\u001b[0m\n",
      "\u001b[32m2025-05-04 17:31:22.733\u001b[0m | \u001b[1mINFO    \u001b[0m | \u001b[36msm.evaluation.sm_metrics\u001b[0m:\u001b[36mprecision_recall_f1\u001b[0m:\u001b[36m620\u001b[0m - \u001b[1mNumber of permutation is: 371090522880.0\u001b[0m\n",
      "\u001b[32m2025-05-04 17:31:22.733\u001b[0m | \u001b[31m\u001b[1mERROR   \u001b[0m | \u001b[36msm.evaluation.sm_metrics\u001b[0m:\u001b[36mprecision_recall_f1\u001b[0m:\u001b[36m626\u001b[0m - \u001b[31m\u001b[1mPermutation explosion: got 371090522880.0 combinations from 1 pair groups\u001b[0m\n",
      "\u001b[32m2025-05-04 17:31:22.734\u001b[0m | \u001b[1mINFO    \u001b[0m | \u001b[36msm.evaluation.sm_metrics\u001b[0m:\u001b[36mprecision_recall_f1\u001b[0m:\u001b[36m632\u001b[0m - \u001b[1m- [(label=http://wikiba.se/ontology#Statement, X=(#nodes=7), X_prime=(#nodes=48))]\u001b[0m\n",
      "\u001b[32m2025-05-04 17:31:22.735\u001b[0m | \u001b[1mINFO    \u001b[0m | \u001b[36msm.evaluation.sm_metrics\u001b[0m:\u001b[36mprecision_recall_f1\u001b[0m:\u001b[36m620\u001b[0m - \u001b[1mNumber of permutation is: 371090522880.0\u001b[0m\n",
      "\u001b[32m2025-05-04 17:31:22.735\u001b[0m | \u001b[31m\u001b[1mERROR   \u001b[0m | \u001b[36msm.evaluation.sm_metrics\u001b[0m:\u001b[36mprecision_recall_f1\u001b[0m:\u001b[36m626\u001b[0m - \u001b[31m\u001b[1mPermutation explosion: got 371090522880.0 combinations from 1 pair groups\u001b[0m\n",
      "\u001b[32m2025-05-04 17:31:22.735\u001b[0m | \u001b[1mINFO    \u001b[0m | \u001b[36msm.evaluation.sm_metrics\u001b[0m:\u001b[36mprecision_recall_f1\u001b[0m:\u001b[36m632\u001b[0m - \u001b[1m- [(label=http://wikiba.se/ontology#Statement, X=(#nodes=7), X_prime=(#nodes=48))]\u001b[0m\n",
      "\u001b[32m2025-05-04 17:31:22.736\u001b[0m | \u001b[1mINFO    \u001b[0m | \u001b[36msm.evaluation.sm_metrics\u001b[0m:\u001b[36mprecision_recall_f1\u001b[0m:\u001b[36m620\u001b[0m - \u001b[1mNumber of permutation is: 303600.0\u001b[0m\n",
      "\u001b[32m2025-05-04 17:31:22.737\u001b[0m | \u001b[31m\u001b[1mERROR   \u001b[0m | \u001b[36msm.evaluation.sm_metrics\u001b[0m:\u001b[36mprecision_recall_f1\u001b[0m:\u001b[36m626\u001b[0m - \u001b[31m\u001b[1mPermutation explosion: got 303600.0 combinations from 1 pair groups\u001b[0m\n",
      "\u001b[32m2025-05-04 17:31:22.737\u001b[0m | \u001b[1mINFO    \u001b[0m | \u001b[36msm.evaluation.sm_metrics\u001b[0m:\u001b[36mprecision_recall_f1\u001b[0m:\u001b[36m632\u001b[0m - \u001b[1m- [(label=http://wikiba.se/ontology#Statement, X=(#nodes=4), X_prime=(#nodes=25))]\u001b[0m\n",
      "\u001b[32m2025-05-04 17:31:22.746\u001b[0m | \u001b[1mINFO    \u001b[0m | \u001b[36msm.evaluation.sm_metrics\u001b[0m:\u001b[36mprecision_recall_f1\u001b[0m:\u001b[36m620\u001b[0m - \u001b[1mNumber of permutation is: 303600.0\u001b[0m\n",
      "\u001b[32m2025-05-04 17:31:22.746\u001b[0m | \u001b[31m\u001b[1mERROR   \u001b[0m | \u001b[36msm.evaluation.sm_metrics\u001b[0m:\u001b[36mprecision_recall_f1\u001b[0m:\u001b[36m626\u001b[0m - \u001b[31m\u001b[1mPermutation explosion: got 303600.0 combinations from 1 pair groups\u001b[0m\n",
      "\u001b[32m2025-05-04 17:31:22.746\u001b[0m | \u001b[1mINFO    \u001b[0m | \u001b[36msm.evaluation.sm_metrics\u001b[0m:\u001b[36mprecision_recall_f1\u001b[0m:\u001b[36m632\u001b[0m - \u001b[1m- [(label=http://wikiba.se/ontology#Statement, X=(#nodes=4), X_prime=(#nodes=25))]\u001b[0m\n",
      "\u001b[32m2025-05-04 17:31:22.750\u001b[0m | \u001b[1mINFO    \u001b[0m | \u001b[36msm.evaluation.sm_metrics\u001b[0m:\u001b[36mprecision_recall_f1\u001b[0m:\u001b[36m620\u001b[0m - \u001b[1mNumber of permutation is: 427518000.0\u001b[0m\n",
      "\u001b[32m2025-05-04 17:31:22.750\u001b[0m | \u001b[31m\u001b[1mERROR   \u001b[0m | \u001b[36msm.evaluation.sm_metrics\u001b[0m:\u001b[36mprecision_recall_f1\u001b[0m:\u001b[36m626\u001b[0m - \u001b[31m\u001b[1mPermutation explosion: got 427518000.0 combinations from 1 pair groups\u001b[0m\n",
      "\u001b[32m2025-05-04 17:31:22.750\u001b[0m | \u001b[1mINFO    \u001b[0m | \u001b[36msm.evaluation.sm_metrics\u001b[0m:\u001b[36mprecision_recall_f1\u001b[0m:\u001b[36m632\u001b[0m - \u001b[1m- [(label=http://wikiba.se/ontology#Statement, X=(#nodes=6), X_prime=(#nodes=30))]\u001b[0m\n",
      "\u001b[32m2025-05-04 17:31:22.751\u001b[0m | \u001b[1mINFO    \u001b[0m | \u001b[36msm.evaluation.sm_metrics\u001b[0m:\u001b[36mprecision_recall_f1\u001b[0m:\u001b[36m620\u001b[0m - \u001b[1mNumber of permutation is: 427518000.0\u001b[0m\n",
      "\u001b[32m2025-05-04 17:31:22.751\u001b[0m | \u001b[31m\u001b[1mERROR   \u001b[0m | \u001b[36msm.evaluation.sm_metrics\u001b[0m:\u001b[36mprecision_recall_f1\u001b[0m:\u001b[36m626\u001b[0m - \u001b[31m\u001b[1mPermutation explosion: got 427518000.0 combinations from 1 pair groups\u001b[0m\n",
      "\u001b[32m2025-05-04 17:31:22.752\u001b[0m | \u001b[1mINFO    \u001b[0m | \u001b[36msm.evaluation.sm_metrics\u001b[0m:\u001b[36mprecision_recall_f1\u001b[0m:\u001b[36m632\u001b[0m - \u001b[1m- [(label=http://wikiba.se/ontology#Statement, X=(#nodes=6), X_prime=(#nodes=30))]\u001b[0m\n",
      "\u001b[32m2025-05-04 17:31:22.752\u001b[0m | \u001b[1mINFO    \u001b[0m | \u001b[36msm.evaluation.sm_metrics\u001b[0m:\u001b[36mprecision_recall_f1\u001b[0m:\u001b[36m620\u001b[0m - \u001b[1mNumber of permutation is: 427518000.0\u001b[0m\n",
      "\u001b[32m2025-05-04 17:31:22.752\u001b[0m | \u001b[31m\u001b[1mERROR   \u001b[0m | \u001b[36msm.evaluation.sm_metrics\u001b[0m:\u001b[36mprecision_recall_f1\u001b[0m:\u001b[36m626\u001b[0m - \u001b[31m\u001b[1mPermutation explosion: got 427518000.0 combinations from 1 pair groups\u001b[0m\n",
      "\u001b[32m2025-05-04 17:31:22.753\u001b[0m | \u001b[1mINFO    \u001b[0m | \u001b[36msm.evaluation.sm_metrics\u001b[0m:\u001b[36mprecision_recall_f1\u001b[0m:\u001b[36m632\u001b[0m - \u001b[1m- [(label=http://wikiba.se/ontology#Statement, X=(#nodes=6), X_prime=(#nodes=30))]\u001b[0m\n",
      "\u001b[32m2025-05-04 17:31:22.753\u001b[0m | \u001b[1mINFO    \u001b[0m | \u001b[36msm.evaluation.sm_metrics\u001b[0m:\u001b[36mprecision_recall_f1\u001b[0m:\u001b[36m620\u001b[0m - \u001b[1mNumber of permutation is: 427518000.0\u001b[0m\n",
      "\u001b[32m2025-05-04 17:31:22.754\u001b[0m | \u001b[31m\u001b[1mERROR   \u001b[0m | \u001b[36msm.evaluation.sm_metrics\u001b[0m:\u001b[36mprecision_recall_f1\u001b[0m:\u001b[36m626\u001b[0m - \u001b[31m\u001b[1mPermutation explosion: got 427518000.0 combinations from 1 pair groups\u001b[0m\n",
      "\u001b[32m2025-05-04 17:31:22.754\u001b[0m | \u001b[1mINFO    \u001b[0m | \u001b[36msm.evaluation.sm_metrics\u001b[0m:\u001b[36mprecision_recall_f1\u001b[0m:\u001b[36m632\u001b[0m - \u001b[1m- [(label=http://wikiba.se/ontology#Statement, X=(#nodes=6), X_prime=(#nodes=30))]\u001b[0m\n",
      "\u001b[32m2025-05-04 17:31:22.755\u001b[0m | \u001b[1mINFO    \u001b[0m | \u001b[36msm.evaluation.sm_metrics\u001b[0m:\u001b[36mprecision_recall_f1\u001b[0m:\u001b[36m620\u001b[0m - \u001b[1mNumber of permutation is: 10260432000.0\u001b[0m\n",
      "\u001b[32m2025-05-04 17:31:22.755\u001b[0m | \u001b[31m\u001b[1mERROR   \u001b[0m | \u001b[36msm.evaluation.sm_metrics\u001b[0m:\u001b[36mprecision_recall_f1\u001b[0m:\u001b[36m626\u001b[0m - \u001b[31m\u001b[1mPermutation explosion: got 10260432000.0 combinations from 1 pair groups\u001b[0m\n",
      "\u001b[32m2025-05-04 17:31:22.755\u001b[0m | \u001b[1mINFO    \u001b[0m | \u001b[36msm.evaluation.sm_metrics\u001b[0m:\u001b[36mprecision_recall_f1\u001b[0m:\u001b[36m632\u001b[0m - \u001b[1m- [(label=http://wikiba.se/ontology#Statement, X=(#nodes=7), X_prime=(#nodes=30))]\u001b[0m\n",
      "\u001b[32m2025-05-04 17:31:22.756\u001b[0m | \u001b[1mINFO    \u001b[0m | \u001b[36msm.evaluation.sm_metrics\u001b[0m:\u001b[36mprecision_recall_f1\u001b[0m:\u001b[36m620\u001b[0m - \u001b[1mNumber of permutation is: 10260432000.0\u001b[0m\n",
      "\u001b[32m2025-05-04 17:31:22.756\u001b[0m | \u001b[31m\u001b[1mERROR   \u001b[0m | \u001b[36msm.evaluation.sm_metrics\u001b[0m:\u001b[36mprecision_recall_f1\u001b[0m:\u001b[36m626\u001b[0m - \u001b[31m\u001b[1mPermutation explosion: got 10260432000.0 combinations from 1 pair groups\u001b[0m\n",
      "\u001b[32m2025-05-04 17:31:22.756\u001b[0m | \u001b[1mINFO    \u001b[0m | \u001b[36msm.evaluation.sm_metrics\u001b[0m:\u001b[36mprecision_recall_f1\u001b[0m:\u001b[36m632\u001b[0m - \u001b[1m- [(label=http://wikiba.se/ontology#Statement, X=(#nodes=7), X_prime=(#nodes=30))]\u001b[0m\n",
      "\u001b[32m2025-05-04 17:31:22.757\u001b[0m | \u001b[1mINFO    \u001b[0m | \u001b[36msm.evaluation.sm_metrics\u001b[0m:\u001b[36mprecision_recall_f1\u001b[0m:\u001b[36m620\u001b[0m - \u001b[1mNumber of permutation is: 10260432000.0\u001b[0m\n",
      "\u001b[32m2025-05-04 17:31:22.758\u001b[0m | \u001b[31m\u001b[1mERROR   \u001b[0m | \u001b[36msm.evaluation.sm_metrics\u001b[0m:\u001b[36mprecision_recall_f1\u001b[0m:\u001b[36m626\u001b[0m - \u001b[31m\u001b[1mPermutation explosion: got 10260432000.0 combinations from 1 pair groups\u001b[0m\n",
      "\u001b[32m2025-05-04 17:31:22.758\u001b[0m | \u001b[1mINFO    \u001b[0m | \u001b[36msm.evaluation.sm_metrics\u001b[0m:\u001b[36mprecision_recall_f1\u001b[0m:\u001b[36m632\u001b[0m - \u001b[1m- [(label=http://wikiba.se/ontology#Statement, X=(#nodes=7), X_prime=(#nodes=30))]\u001b[0m\n",
      "\u001b[32m2025-05-04 17:31:22.758\u001b[0m | \u001b[1mINFO    \u001b[0m | \u001b[36msm.evaluation.sm_metrics\u001b[0m:\u001b[36mprecision_recall_f1\u001b[0m:\u001b[36m620\u001b[0m - \u001b[1mNumber of permutation is: 10260432000.0\u001b[0m\n",
      "\u001b[32m2025-05-04 17:31:22.758\u001b[0m | \u001b[31m\u001b[1mERROR   \u001b[0m | \u001b[36msm.evaluation.sm_metrics\u001b[0m:\u001b[36mprecision_recall_f1\u001b[0m:\u001b[36m626\u001b[0m - \u001b[31m\u001b[1mPermutation explosion: got 10260432000.0 combinations from 1 pair groups\u001b[0m\n",
      "\u001b[32m2025-05-04 17:31:22.759\u001b[0m | \u001b[1mINFO    \u001b[0m | \u001b[36msm.evaluation.sm_metrics\u001b[0m:\u001b[36mprecision_recall_f1\u001b[0m:\u001b[36m632\u001b[0m - \u001b[1m- [(label=http://wikiba.se/ontology#Statement, X=(#nodes=7), X_prime=(#nodes=30))]\u001b[0m\n",
      "\u001b[32m2025-05-04 17:31:22.760\u001b[0m | \u001b[1mINFO    \u001b[0m | \u001b[36msm.evaluation.sm_metrics\u001b[0m:\u001b[36mprecision_recall_f1\u001b[0m:\u001b[36m620\u001b[0m - \u001b[1mNumber of permutation is: 10260432000.0\u001b[0m\n",
      "\u001b[32m2025-05-04 17:31:22.760\u001b[0m | \u001b[31m\u001b[1mERROR   \u001b[0m | \u001b[36msm.evaluation.sm_metrics\u001b[0m:\u001b[36mprecision_recall_f1\u001b[0m:\u001b[36m626\u001b[0m - \u001b[31m\u001b[1mPermutation explosion: got 10260432000.0 combinations from 1 pair groups\u001b[0m\n",
      "\u001b[32m2025-05-04 17:31:22.760\u001b[0m | \u001b[1mINFO    \u001b[0m | \u001b[36msm.evaluation.sm_metrics\u001b[0m:\u001b[36mprecision_recall_f1\u001b[0m:\u001b[36m632\u001b[0m - \u001b[1m- [(label=http://wikiba.se/ontology#Statement, X=(#nodes=7), X_prime=(#nodes=30))]\u001b[0m\n",
      "\u001b[32m2025-05-04 17:31:22.761\u001b[0m | \u001b[1mINFO    \u001b[0m | \u001b[36msm.evaluation.sm_metrics\u001b[0m:\u001b[36mprecision_recall_f1\u001b[0m:\u001b[36m620\u001b[0m - \u001b[1mNumber of permutation is: 10260432000.0\u001b[0m\n",
      "\u001b[32m2025-05-04 17:31:22.761\u001b[0m | \u001b[31m\u001b[1mERROR   \u001b[0m | \u001b[36msm.evaluation.sm_metrics\u001b[0m:\u001b[36mprecision_recall_f1\u001b[0m:\u001b[36m626\u001b[0m - \u001b[31m\u001b[1mPermutation explosion: got 10260432000.0 combinations from 1 pair groups\u001b[0m\n",
      "\u001b[32m2025-05-04 17:31:22.761\u001b[0m | \u001b[1mINFO    \u001b[0m | \u001b[36msm.evaluation.sm_metrics\u001b[0m:\u001b[36mprecision_recall_f1\u001b[0m:\u001b[36m632\u001b[0m - \u001b[1m- [(label=http://wikiba.se/ontology#Statement, X=(#nodes=7), X_prime=(#nodes=30))]\u001b[0m\n",
      "\u001b[32m2025-05-04 17:31:22.762\u001b[0m | \u001b[1mINFO    \u001b[0m | \u001b[36msm.evaluation.sm_metrics\u001b[0m:\u001b[36mprecision_recall_f1\u001b[0m:\u001b[36m620\u001b[0m - \u001b[1mNumber of permutation is: 10260432000.0\u001b[0m\n",
      "\u001b[32m2025-05-04 17:31:22.762\u001b[0m | \u001b[31m\u001b[1mERROR   \u001b[0m | \u001b[36msm.evaluation.sm_metrics\u001b[0m:\u001b[36mprecision_recall_f1\u001b[0m:\u001b[36m626\u001b[0m - \u001b[31m\u001b[1mPermutation explosion: got 10260432000.0 combinations from 1 pair groups\u001b[0m\n",
      "\u001b[32m2025-05-04 17:31:22.762\u001b[0m | \u001b[1mINFO    \u001b[0m | \u001b[36msm.evaluation.sm_metrics\u001b[0m:\u001b[36mprecision_recall_f1\u001b[0m:\u001b[36m632\u001b[0m - \u001b[1m- [(label=http://wikiba.se/ontology#Statement, X=(#nodes=7), X_prime=(#nodes=30))]\u001b[0m\n",
      "\u001b[32m2025-05-04 17:31:22.763\u001b[0m | \u001b[1mINFO    \u001b[0m | \u001b[36msm.evaluation.sm_metrics\u001b[0m:\u001b[36mprecision_recall_f1\u001b[0m:\u001b[36m620\u001b[0m - \u001b[1mNumber of permutation is: 10260432000.0\u001b[0m\n",
      "\u001b[32m2025-05-04 17:31:22.763\u001b[0m | \u001b[31m\u001b[1mERROR   \u001b[0m | \u001b[36msm.evaluation.sm_metrics\u001b[0m:\u001b[36mprecision_recall_f1\u001b[0m:\u001b[36m626\u001b[0m - \u001b[31m\u001b[1mPermutation explosion: got 10260432000.0 combinations from 1 pair groups\u001b[0m\n",
      "\u001b[32m2025-05-04 17:31:22.763\u001b[0m | \u001b[1mINFO    \u001b[0m | \u001b[36msm.evaluation.sm_metrics\u001b[0m:\u001b[36mprecision_recall_f1\u001b[0m:\u001b[36m632\u001b[0m - \u001b[1m- [(label=http://wikiba.se/ontology#Statement, X=(#nodes=7), X_prime=(#nodes=30))]\u001b[0m\n",
      "\u001b[32m2025-05-04 17:31:23.134\u001b[0m | \u001b[1mINFO    \u001b[0m | \u001b[36msm.evaluation.sm_metrics\u001b[0m:\u001b[36mprecision_recall_f1\u001b[0m:\u001b[36m620\u001b[0m - \u001b[1mNumber of permutation is: 95040.0\u001b[0m\n",
      "\u001b[32m2025-05-04 17:31:23.891\u001b[0m | \u001b[1mINFO    \u001b[0m | \u001b[36msm.evaluation.sm_metrics\u001b[0m:\u001b[36mprecision_recall_f1\u001b[0m:\u001b[36m620\u001b[0m - \u001b[1mNumber of permutation is: 116280.0\u001b[0m\n",
      "\u001b[32m2025-05-04 17:31:23.892\u001b[0m | \u001b[31m\u001b[1mERROR   \u001b[0m | \u001b[36msm.evaluation.sm_metrics\u001b[0m:\u001b[36mprecision_recall_f1\u001b[0m:\u001b[36m626\u001b[0m - \u001b[31m\u001b[1mPermutation explosion: got 116280.0 combinations from 1 pair groups\u001b[0m\n",
      "\u001b[32m2025-05-04 17:31:23.892\u001b[0m | \u001b[1mINFO    \u001b[0m | \u001b[36msm.evaluation.sm_metrics\u001b[0m:\u001b[36mprecision_recall_f1\u001b[0m:\u001b[36m632\u001b[0m - \u001b[1m- [(label=http://wikiba.se/ontology#Statement, X=(#nodes=4), X_prime=(#nodes=20))]\u001b[0m\n",
      "\u001b[32m2025-05-04 17:31:24.181\u001b[0m | \u001b[1mINFO    \u001b[0m | \u001b[36msm.evaluation.sm_metrics\u001b[0m:\u001b[36mprecision_recall_f1\u001b[0m:\u001b[36m620\u001b[0m - \u001b[1mNumber of permutation is: 360360.0\u001b[0m\n",
      "\u001b[32m2025-05-04 17:31:24.181\u001b[0m | \u001b[31m\u001b[1mERROR   \u001b[0m | \u001b[36msm.evaluation.sm_metrics\u001b[0m:\u001b[36mprecision_recall_f1\u001b[0m:\u001b[36m626\u001b[0m - \u001b[31m\u001b[1mPermutation explosion: got 360360.0 combinations from 1 pair groups\u001b[0m\n",
      "\u001b[32m2025-05-04 17:31:24.181\u001b[0m | \u001b[1mINFO    \u001b[0m | \u001b[36msm.evaluation.sm_metrics\u001b[0m:\u001b[36mprecision_recall_f1\u001b[0m:\u001b[36m632\u001b[0m - \u001b[1m- [(label=http://wikiba.se/ontology#Statement, X=(#nodes=5), X_prime=(#nodes=15))]\u001b[0m\n",
      "\u001b[32m2025-05-04 17:31:24.182\u001b[0m | \u001b[1mINFO    \u001b[0m | \u001b[36msm.evaluation.sm_metrics\u001b[0m:\u001b[36mprecision_recall_f1\u001b[0m:\u001b[36m620\u001b[0m - \u001b[1mNumber of permutation is: 360360.0\u001b[0m\n",
      "\u001b[32m2025-05-04 17:31:24.182\u001b[0m | \u001b[31m\u001b[1mERROR   \u001b[0m | \u001b[36msm.evaluation.sm_metrics\u001b[0m:\u001b[36mprecision_recall_f1\u001b[0m:\u001b[36m626\u001b[0m - \u001b[31m\u001b[1mPermutation explosion: got 360360.0 combinations from 1 pair groups\u001b[0m\n",
      "\u001b[32m2025-05-04 17:31:24.182\u001b[0m | \u001b[1mINFO    \u001b[0m | \u001b[36msm.evaluation.sm_metrics\u001b[0m:\u001b[36mprecision_recall_f1\u001b[0m:\u001b[36m632\u001b[0m - \u001b[1m- [(label=http://wikiba.se/ontology#Statement, X=(#nodes=5), X_prime=(#nodes=15))]\u001b[0m\n",
      "\u001b[32m2025-05-04 17:31:24.184\u001b[0m | \u001b[1mINFO    \u001b[0m | \u001b[36msm.evaluation.sm_metrics\u001b[0m:\u001b[36mprecision_recall_f1\u001b[0m:\u001b[36m620\u001b[0m - \u001b[1mNumber of permutation is: 586051200.0\u001b[0m\n",
      "\u001b[32m2025-05-04 17:31:24.185\u001b[0m | \u001b[31m\u001b[1mERROR   \u001b[0m | \u001b[36msm.evaluation.sm_metrics\u001b[0m:\u001b[36mprecision_recall_f1\u001b[0m:\u001b[36m626\u001b[0m - \u001b[31m\u001b[1mPermutation explosion: got 586051200.0 combinations from 1 pair groups\u001b[0m\n",
      "\u001b[32m2025-05-04 17:31:24.185\u001b[0m | \u001b[1mINFO    \u001b[0m | \u001b[36msm.evaluation.sm_metrics\u001b[0m:\u001b[36mprecision_recall_f1\u001b[0m:\u001b[36m632\u001b[0m - \u001b[1m- [(label=http://wikiba.se/ontology#Statement, X=(#nodes=7), X_prime=(#nodes=21))]\u001b[0m\n",
      "\u001b[32m2025-05-04 17:31:24.185\u001b[0m | \u001b[1mINFO    \u001b[0m | \u001b[36msm.evaluation.sm_metrics\u001b[0m:\u001b[36mprecision_recall_f1\u001b[0m:\u001b[36m620\u001b[0m - \u001b[1mNumber of permutation is: 586051200.0\u001b[0m\n",
      "\u001b[32m2025-05-04 17:31:24.186\u001b[0m | \u001b[31m\u001b[1mERROR   \u001b[0m | \u001b[36msm.evaluation.sm_metrics\u001b[0m:\u001b[36mprecision_recall_f1\u001b[0m:\u001b[36m626\u001b[0m - \u001b[31m\u001b[1mPermutation explosion: got 586051200.0 combinations from 1 pair groups\u001b[0m\n",
      "\u001b[32m2025-05-04 17:31:24.186\u001b[0m | \u001b[1mINFO    \u001b[0m | \u001b[36msm.evaluation.sm_metrics\u001b[0m:\u001b[36mprecision_recall_f1\u001b[0m:\u001b[36m632\u001b[0m - \u001b[1m- [(label=http://wikiba.se/ontology#Statement, X=(#nodes=7), X_prime=(#nodes=21))]\u001b[0m\n",
      "\u001b[32m2025-05-04 17:31:24.433\u001b[0m | \u001b[1mINFO    \u001b[0m | \u001b[36msm.evaluation.sm_metrics\u001b[0m:\u001b[36mprecision_recall_f1\u001b[0m:\u001b[36m620\u001b[0m - \u001b[1mNumber of permutation is: 5100480.0\u001b[0m\n",
      "\u001b[32m2025-05-04 17:31:24.433\u001b[0m | \u001b[31m\u001b[1mERROR   \u001b[0m | \u001b[36msm.evaluation.sm_metrics\u001b[0m:\u001b[36mprecision_recall_f1\u001b[0m:\u001b[36m626\u001b[0m - \u001b[31m\u001b[1mPermutation explosion: got 5100480.0 combinations from 1 pair groups\u001b[0m\n",
      "\u001b[32m2025-05-04 17:31:24.433\u001b[0m | \u001b[1mINFO    \u001b[0m | \u001b[36msm.evaluation.sm_metrics\u001b[0m:\u001b[36mprecision_recall_f1\u001b[0m:\u001b[36m632\u001b[0m - \u001b[1m- [(label=http://wikiba.se/ontology#Statement, X=(#nodes=5), X_prime=(#nodes=24))]\u001b[0m\n",
      "\u001b[32m2025-05-04 17:31:24.434\u001b[0m | \u001b[1mINFO    \u001b[0m | \u001b[36msm.evaluation.sm_metrics\u001b[0m:\u001b[36mprecision_recall_f1\u001b[0m:\u001b[36m620\u001b[0m - \u001b[1mNumber of permutation is: 5100480.0\u001b[0m\n",
      "\u001b[32m2025-05-04 17:31:24.434\u001b[0m | \u001b[31m\u001b[1mERROR   \u001b[0m | \u001b[36msm.evaluation.sm_metrics\u001b[0m:\u001b[36mprecision_recall_f1\u001b[0m:\u001b[36m626\u001b[0m - \u001b[31m\u001b[1mPermutation explosion: got 5100480.0 combinations from 1 pair groups\u001b[0m\n",
      "\u001b[32m2025-05-04 17:31:24.434\u001b[0m | \u001b[1mINFO    \u001b[0m | \u001b[36msm.evaluation.sm_metrics\u001b[0m:\u001b[36mprecision_recall_f1\u001b[0m:\u001b[36m632\u001b[0m - \u001b[1m- [(label=http://wikiba.se/ontology#Statement, X=(#nodes=5), X_prime=(#nodes=24))]\u001b[0m\n",
      "\u001b[32m2025-05-04 17:31:25.124\u001b[0m | \u001b[1mINFO    \u001b[0m | \u001b[36msm.evaluation.sm_metrics\u001b[0m:\u001b[36mprecision_recall_f1\u001b[0m:\u001b[36m620\u001b[0m - \u001b[1mNumber of permutation is: 6375600.0\u001b[0m\n",
      "\u001b[32m2025-05-04 17:31:25.124\u001b[0m | \u001b[31m\u001b[1mERROR   \u001b[0m | \u001b[36msm.evaluation.sm_metrics\u001b[0m:\u001b[36mprecision_recall_f1\u001b[0m:\u001b[36m626\u001b[0m - \u001b[31m\u001b[1mPermutation explosion: got 6375600.0 combinations from 1 pair groups\u001b[0m\n",
      "\u001b[32m2025-05-04 17:31:25.124\u001b[0m | \u001b[1mINFO    \u001b[0m | \u001b[36msm.evaluation.sm_metrics\u001b[0m:\u001b[36mprecision_recall_f1\u001b[0m:\u001b[36m632\u001b[0m - \u001b[1m- [(label=http://wikiba.se/ontology#Statement, X=(#nodes=5), X_prime=(#nodes=25))]\u001b[0m\n",
      "\u001b[32m2025-05-04 17:31:25.125\u001b[0m | \u001b[1mINFO    \u001b[0m | \u001b[36msm.evaluation.sm_metrics\u001b[0m:\u001b[36mprecision_recall_f1\u001b[0m:\u001b[36m620\u001b[0m - \u001b[1mNumber of permutation is: 6375600.0\u001b[0m\n",
      "\u001b[32m2025-05-04 17:31:25.125\u001b[0m | \u001b[31m\u001b[1mERROR   \u001b[0m | \u001b[36msm.evaluation.sm_metrics\u001b[0m:\u001b[36mprecision_recall_f1\u001b[0m:\u001b[36m626\u001b[0m - \u001b[31m\u001b[1mPermutation explosion: got 6375600.0 combinations from 1 pair groups\u001b[0m\n",
      "\u001b[32m2025-05-04 17:31:25.125\u001b[0m | \u001b[1mINFO    \u001b[0m | \u001b[36msm.evaluation.sm_metrics\u001b[0m:\u001b[36mprecision_recall_f1\u001b[0m:\u001b[36m632\u001b[0m - \u001b[1m- [(label=http://wikiba.se/ontology#Statement, X=(#nodes=5), X_prime=(#nodes=25))]\u001b[0m\n",
      "\u001b[32m2025-05-04 17:31:25.127\u001b[0m | \u001b[1mINFO    \u001b[0m | \u001b[36msm.evaluation.sm_metrics\u001b[0m:\u001b[36mprecision_recall_f1\u001b[0m:\u001b[36m620\u001b[0m - \u001b[1mNumber of permutation is: 6375600.0\u001b[0m\n",
      "\u001b[32m2025-05-04 17:31:25.127\u001b[0m | \u001b[31m\u001b[1mERROR   \u001b[0m | \u001b[36msm.evaluation.sm_metrics\u001b[0m:\u001b[36mprecision_recall_f1\u001b[0m:\u001b[36m626\u001b[0m - \u001b[31m\u001b[1mPermutation explosion: got 6375600.0 combinations from 1 pair groups\u001b[0m\n",
      "\u001b[32m2025-05-04 17:31:25.127\u001b[0m | \u001b[1mINFO    \u001b[0m | \u001b[36msm.evaluation.sm_metrics\u001b[0m:\u001b[36mprecision_recall_f1\u001b[0m:\u001b[36m632\u001b[0m - \u001b[1m- [(label=http://wikiba.se/ontology#Statement, X=(#nodes=5), X_prime=(#nodes=25))]\u001b[0m\n",
      "\u001b[32m2025-05-04 17:31:25.128\u001b[0m | \u001b[1mINFO    \u001b[0m | \u001b[36msm.evaluation.sm_metrics\u001b[0m:\u001b[36mprecision_recall_f1\u001b[0m:\u001b[36m620\u001b[0m - \u001b[1mNumber of permutation is: 6375600.0\u001b[0m\n",
      "\u001b[32m2025-05-04 17:31:25.128\u001b[0m | \u001b[31m\u001b[1mERROR   \u001b[0m | \u001b[36msm.evaluation.sm_metrics\u001b[0m:\u001b[36mprecision_recall_f1\u001b[0m:\u001b[36m626\u001b[0m - \u001b[31m\u001b[1mPermutation explosion: got 6375600.0 combinations from 1 pair groups\u001b[0m\n",
      "\u001b[32m2025-05-04 17:31:25.128\u001b[0m | \u001b[1mINFO    \u001b[0m | \u001b[36msm.evaluation.sm_metrics\u001b[0m:\u001b[36mprecision_recall_f1\u001b[0m:\u001b[36m632\u001b[0m - \u001b[1m- [(label=http://wikiba.se/ontology#Statement, X=(#nodes=5), X_prime=(#nodes=25))]\u001b[0m\n",
      "\u001b[32m2025-05-04 17:31:25.130\u001b[0m | \u001b[1mINFO    \u001b[0m | \u001b[36msm.evaluation.sm_metrics\u001b[0m:\u001b[36mprecision_recall_f1\u001b[0m:\u001b[36m620\u001b[0m - \u001b[1mNumber of permutation is: 6375600.0\u001b[0m\n",
      "\u001b[32m2025-05-04 17:31:25.130\u001b[0m | \u001b[31m\u001b[1mERROR   \u001b[0m | \u001b[36msm.evaluation.sm_metrics\u001b[0m:\u001b[36mprecision_recall_f1\u001b[0m:\u001b[36m626\u001b[0m - \u001b[31m\u001b[1mPermutation explosion: got 6375600.0 combinations from 1 pair groups\u001b[0m\n",
      "\u001b[32m2025-05-04 17:31:25.130\u001b[0m | \u001b[1mINFO    \u001b[0m | \u001b[36msm.evaluation.sm_metrics\u001b[0m:\u001b[36mprecision_recall_f1\u001b[0m:\u001b[36m632\u001b[0m - \u001b[1m- [(label=http://wikiba.se/ontology#Statement, X=(#nodes=5), X_prime=(#nodes=25))]\u001b[0m\n",
      "\u001b[32m2025-05-04 17:31:25.131\u001b[0m | \u001b[1mINFO    \u001b[0m | \u001b[36msm.evaluation.sm_metrics\u001b[0m:\u001b[36mprecision_recall_f1\u001b[0m:\u001b[36m620\u001b[0m - \u001b[1mNumber of permutation is: 6375600.0\u001b[0m\n",
      "\u001b[32m2025-05-04 17:31:25.131\u001b[0m | \u001b[31m\u001b[1mERROR   \u001b[0m | \u001b[36msm.evaluation.sm_metrics\u001b[0m:\u001b[36mprecision_recall_f1\u001b[0m:\u001b[36m626\u001b[0m - \u001b[31m\u001b[1mPermutation explosion: got 6375600.0 combinations from 1 pair groups\u001b[0m\n",
      "\u001b[32m2025-05-04 17:31:25.131\u001b[0m | \u001b[1mINFO    \u001b[0m | \u001b[36msm.evaluation.sm_metrics\u001b[0m:\u001b[36mprecision_recall_f1\u001b[0m:\u001b[36m632\u001b[0m - \u001b[1m- [(label=http://wikiba.se/ontology#Statement, X=(#nodes=5), X_prime=(#nodes=25))]\u001b[0m\n",
      "\u001b[32m2025-05-04 17:31:25.132\u001b[0m | \u001b[1mINFO    \u001b[0m | \u001b[36msm.evaluation.sm_metrics\u001b[0m:\u001b[36mprecision_recall_f1\u001b[0m:\u001b[36m620\u001b[0m - \u001b[1mNumber of permutation is: 6375600.0\u001b[0m\n",
      "\u001b[32m2025-05-04 17:31:25.133\u001b[0m | \u001b[31m\u001b[1mERROR   \u001b[0m | \u001b[36msm.evaluation.sm_metrics\u001b[0m:\u001b[36mprecision_recall_f1\u001b[0m:\u001b[36m626\u001b[0m - \u001b[31m\u001b[1mPermutation explosion: got 6375600.0 combinations from 1 pair groups\u001b[0m\n",
      "\u001b[32m2025-05-04 17:31:25.133\u001b[0m | \u001b[1mINFO    \u001b[0m | \u001b[36msm.evaluation.sm_metrics\u001b[0m:\u001b[36mprecision_recall_f1\u001b[0m:\u001b[36m632\u001b[0m - \u001b[1m- [(label=http://wikiba.se/ontology#Statement, X=(#nodes=5), X_prime=(#nodes=25))]\u001b[0m\n",
      "\u001b[32m2025-05-04 17:31:25.133\u001b[0m | \u001b[1mINFO    \u001b[0m | \u001b[36msm.evaluation.sm_metrics\u001b[0m:\u001b[36mprecision_recall_f1\u001b[0m:\u001b[36m620\u001b[0m - \u001b[1mNumber of permutation is: 6375600.0\u001b[0m\n",
      "\u001b[32m2025-05-04 17:31:25.134\u001b[0m | \u001b[31m\u001b[1mERROR   \u001b[0m | \u001b[36msm.evaluation.sm_metrics\u001b[0m:\u001b[36mprecision_recall_f1\u001b[0m:\u001b[36m626\u001b[0m - \u001b[31m\u001b[1mPermutation explosion: got 6375600.0 combinations from 1 pair groups\u001b[0m\n",
      "\u001b[32m2025-05-04 17:31:25.134\u001b[0m | \u001b[1mINFO    \u001b[0m | \u001b[36msm.evaluation.sm_metrics\u001b[0m:\u001b[36mprecision_recall_f1\u001b[0m:\u001b[36m632\u001b[0m - \u001b[1m- [(label=http://wikiba.se/ontology#Statement, X=(#nodes=5), X_prime=(#nodes=25))]\u001b[0m\n",
      "\u001b[32m2025-05-04 17:31:25.136\u001b[0m | \u001b[1mINFO    \u001b[0m | \u001b[36msm.evaluation.sm_metrics\u001b[0m:\u001b[36mprecision_recall_f1\u001b[0m:\u001b[36m620\u001b[0m - \u001b[1mNumber of permutation is: 657720.0\u001b[0m\n",
      "\u001b[32m2025-05-04 17:31:25.136\u001b[0m | \u001b[31m\u001b[1mERROR   \u001b[0m | \u001b[36msm.evaluation.sm_metrics\u001b[0m:\u001b[36mprecision_recall_f1\u001b[0m:\u001b[36m626\u001b[0m - \u001b[31m\u001b[1mPermutation explosion: got 657720.0 combinations from 1 pair groups\u001b[0m\n",
      "\u001b[32m2025-05-04 17:31:25.136\u001b[0m | \u001b[1mINFO    \u001b[0m | \u001b[36msm.evaluation.sm_metrics\u001b[0m:\u001b[36mprecision_recall_f1\u001b[0m:\u001b[36m632\u001b[0m - \u001b[1m- [(label=http://wikiba.se/ontology#Statement, X=(#nodes=4), X_prime=(#nodes=30))]\u001b[0m\n",
      "\u001b[32m2025-05-04 17:31:25.137\u001b[0m | \u001b[1mINFO    \u001b[0m | \u001b[36msm.evaluation.sm_metrics\u001b[0m:\u001b[36mprecision_recall_f1\u001b[0m:\u001b[36m620\u001b[0m - \u001b[1mNumber of permutation is: 657720.0\u001b[0m\n",
      "\u001b[32m2025-05-04 17:31:25.137\u001b[0m | \u001b[31m\u001b[1mERROR   \u001b[0m | \u001b[36msm.evaluation.sm_metrics\u001b[0m:\u001b[36mprecision_recall_f1\u001b[0m:\u001b[36m626\u001b[0m - \u001b[31m\u001b[1mPermutation explosion: got 657720.0 combinations from 1 pair groups\u001b[0m\n",
      "\u001b[32m2025-05-04 17:31:25.137\u001b[0m | \u001b[1mINFO    \u001b[0m | \u001b[36msm.evaluation.sm_metrics\u001b[0m:\u001b[36mprecision_recall_f1\u001b[0m:\u001b[36m632\u001b[0m - \u001b[1m- [(label=http://wikiba.se/ontology#Statement, X=(#nodes=4), X_prime=(#nodes=30))]\u001b[0m\n",
      "\u001b[32m2025-05-04 17:31:25.417\u001b[0m | \u001b[1mINFO    \u001b[0m | \u001b[36msm.evaluation.sm_metrics\u001b[0m:\u001b[36mprecision_recall_f1\u001b[0m:\u001b[36m620\u001b[0m - \u001b[1mNumber of permutation is: 6375600.0\u001b[0m\n",
      "\u001b[32m2025-05-04 17:31:25.417\u001b[0m | \u001b[31m\u001b[1mERROR   \u001b[0m | \u001b[36msm.evaluation.sm_metrics\u001b[0m:\u001b[36mprecision_recall_f1\u001b[0m:\u001b[36m626\u001b[0m - \u001b[31m\u001b[1mPermutation explosion: got 6375600.0 combinations from 1 pair groups\u001b[0m\n",
      "\u001b[32m2025-05-04 17:31:25.417\u001b[0m | \u001b[1mINFO    \u001b[0m | \u001b[36msm.evaluation.sm_metrics\u001b[0m:\u001b[36mprecision_recall_f1\u001b[0m:\u001b[36m632\u001b[0m - \u001b[1m- [(label=http://wikiba.se/ontology#Statement, X=(#nodes=5), X_prime=(#nodes=25))]\u001b[0m\n",
      "\u001b[32m2025-05-04 17:31:25.418\u001b[0m | \u001b[1mINFO    \u001b[0m | \u001b[36msm.evaluation.sm_metrics\u001b[0m:\u001b[36mprecision_recall_f1\u001b[0m:\u001b[36m620\u001b[0m - \u001b[1mNumber of permutation is: 6375600.0\u001b[0m\n",
      "\u001b[32m2025-05-04 17:31:25.418\u001b[0m | \u001b[31m\u001b[1mERROR   \u001b[0m | \u001b[36msm.evaluation.sm_metrics\u001b[0m:\u001b[36mprecision_recall_f1\u001b[0m:\u001b[36m626\u001b[0m - \u001b[31m\u001b[1mPermutation explosion: got 6375600.0 combinations from 1 pair groups\u001b[0m\n",
      "\u001b[32m2025-05-04 17:31:25.418\u001b[0m | \u001b[1mINFO    \u001b[0m | \u001b[36msm.evaluation.sm_metrics\u001b[0m:\u001b[36mprecision_recall_f1\u001b[0m:\u001b[36m632\u001b[0m - \u001b[1m- [(label=http://wikiba.se/ontology#Statement, X=(#nodes=5), X_prime=(#nodes=25))]\u001b[0m\n",
      "\u001b[32m2025-05-04 17:31:25.838\u001b[0m | \u001b[1mINFO    \u001b[0m | \u001b[36msm.evaluation.sm_metrics\u001b[0m:\u001b[36mprecision_recall_f1\u001b[0m:\u001b[36m620\u001b[0m - \u001b[1mNumber of permutation is: 6375600.0\u001b[0m\n",
      "\u001b[32m2025-05-04 17:31:25.838\u001b[0m | \u001b[31m\u001b[1mERROR   \u001b[0m | \u001b[36msm.evaluation.sm_metrics\u001b[0m:\u001b[36mprecision_recall_f1\u001b[0m:\u001b[36m626\u001b[0m - \u001b[31m\u001b[1mPermutation explosion: got 6375600.0 combinations from 1 pair groups\u001b[0m\n",
      "\u001b[32m2025-05-04 17:31:25.838\u001b[0m | \u001b[1mINFO    \u001b[0m | \u001b[36msm.evaluation.sm_metrics\u001b[0m:\u001b[36mprecision_recall_f1\u001b[0m:\u001b[36m632\u001b[0m - \u001b[1m- [(label=http://wikiba.se/ontology#Statement, X=(#nodes=5), X_prime=(#nodes=25))]\u001b[0m\n",
      "\u001b[32m2025-05-04 17:31:25.840\u001b[0m | \u001b[1mINFO    \u001b[0m | \u001b[36msm.evaluation.sm_metrics\u001b[0m:\u001b[36mprecision_recall_f1\u001b[0m:\u001b[36m620\u001b[0m - \u001b[1mNumber of permutation is: 6375600.0\u001b[0m\n",
      "\u001b[32m2025-05-04 17:31:25.840\u001b[0m | \u001b[31m\u001b[1mERROR   \u001b[0m | \u001b[36msm.evaluation.sm_metrics\u001b[0m:\u001b[36mprecision_recall_f1\u001b[0m:\u001b[36m626\u001b[0m - \u001b[31m\u001b[1mPermutation explosion: got 6375600.0 combinations from 1 pair groups\u001b[0m\n",
      "\u001b[32m2025-05-04 17:31:25.840\u001b[0m | \u001b[1mINFO    \u001b[0m | \u001b[36msm.evaluation.sm_metrics\u001b[0m:\u001b[36mprecision_recall_f1\u001b[0m:\u001b[36m632\u001b[0m - \u001b[1m- [(label=http://wikiba.se/ontology#Statement, X=(#nodes=5), X_prime=(#nodes=25))]\u001b[0m\n",
      "\u001b[32m2025-05-04 17:31:25.842\u001b[0m | \u001b[1mINFO    \u001b[0m | \u001b[36msm.evaluation.sm_metrics\u001b[0m:\u001b[36mprecision_recall_f1\u001b[0m:\u001b[36m620\u001b[0m - \u001b[1mNumber of permutation is: 116280.0\u001b[0m\n",
      "\u001b[32m2025-05-04 17:31:25.842\u001b[0m | \u001b[31m\u001b[1mERROR   \u001b[0m | \u001b[36msm.evaluation.sm_metrics\u001b[0m:\u001b[36mprecision_recall_f1\u001b[0m:\u001b[36m626\u001b[0m - \u001b[31m\u001b[1mPermutation explosion: got 116280.0 combinations from 1 pair groups\u001b[0m\n",
      "\u001b[32m2025-05-04 17:31:25.843\u001b[0m | \u001b[1mINFO    \u001b[0m | \u001b[36msm.evaluation.sm_metrics\u001b[0m:\u001b[36mprecision_recall_f1\u001b[0m:\u001b[36m632\u001b[0m - \u001b[1m- [(label=http://wikiba.se/ontology#Statement, X=(#nodes=4), X_prime=(#nodes=20))]\u001b[0m\n",
      "\u001b[32m2025-05-04 17:31:26.698\u001b[0m | \u001b[1mINFO    \u001b[0m | \u001b[36msm.evaluation.sm_metrics\u001b[0m:\u001b[36mprecision_recall_f1\u001b[0m:\u001b[36m620\u001b[0m - \u001b[1mNumber of permutation is: 96909120.0\u001b[0m\n",
      "\u001b[32m2025-05-04 17:31:26.699\u001b[0m | \u001b[31m\u001b[1mERROR   \u001b[0m | \u001b[36msm.evaluation.sm_metrics\u001b[0m:\u001b[36mprecision_recall_f1\u001b[0m:\u001b[36m626\u001b[0m - \u001b[31m\u001b[1mPermutation explosion: got 96909120.0 combinations from 1 pair groups\u001b[0m\n",
      "\u001b[32m2025-05-04 17:31:26.699\u001b[0m | \u001b[1mINFO    \u001b[0m | \u001b[36msm.evaluation.sm_metrics\u001b[0m:\u001b[36mprecision_recall_f1\u001b[0m:\u001b[36m632\u001b[0m - \u001b[1m- [(label=http://wikiba.se/ontology#Statement, X=(#nodes=6), X_prime=(#nodes=24))]\u001b[0m\n",
      "\u001b[32m2025-05-04 17:31:27.204\u001b[0m | \u001b[1mINFO    \u001b[0m | \u001b[36msm.evaluation.sm_metrics\u001b[0m:\u001b[36mprecision_recall_f1\u001b[0m:\u001b[36m620\u001b[0m - \u001b[1mNumber of permutation is: 524160.0\u001b[0m\n",
      "\u001b[32m2025-05-04 17:31:27.204\u001b[0m | \u001b[31m\u001b[1mERROR   \u001b[0m | \u001b[36msm.evaluation.sm_metrics\u001b[0m:\u001b[36mprecision_recall_f1\u001b[0m:\u001b[36m626\u001b[0m - \u001b[31m\u001b[1mPermutation explosion: got 524160.0 combinations from 1 pair groups\u001b[0m\n",
      "\u001b[32m2025-05-04 17:31:27.204\u001b[0m | \u001b[1mINFO    \u001b[0m | \u001b[36msm.evaluation.sm_metrics\u001b[0m:\u001b[36mprecision_recall_f1\u001b[0m:\u001b[36m632\u001b[0m - \u001b[1m- [(label=http://wikiba.se/ontology#Statement, X=(#nodes=5), X_prime=(#nodes=16))]\u001b[0m\n",
      "\u001b[32m2025-05-04 17:31:27.205\u001b[0m | \u001b[1mINFO    \u001b[0m | \u001b[36msm.evaluation.sm_metrics\u001b[0m:\u001b[36mprecision_recall_f1\u001b[0m:\u001b[36m620\u001b[0m - \u001b[1mNumber of permutation is: 524160.0\u001b[0m\n",
      "\u001b[32m2025-05-04 17:31:27.205\u001b[0m | \u001b[31m\u001b[1mERROR   \u001b[0m | \u001b[36msm.evaluation.sm_metrics\u001b[0m:\u001b[36mprecision_recall_f1\u001b[0m:\u001b[36m626\u001b[0m - \u001b[31m\u001b[1mPermutation explosion: got 524160.0 combinations from 1 pair groups\u001b[0m\n",
      "\u001b[32m2025-05-04 17:31:27.206\u001b[0m | \u001b[1mINFO    \u001b[0m | \u001b[36msm.evaluation.sm_metrics\u001b[0m:\u001b[36mprecision_recall_f1\u001b[0m:\u001b[36m632\u001b[0m - \u001b[1m- [(label=http://wikiba.se/ontology#Statement, X=(#nodes=5), X_prime=(#nodes=16))]\u001b[0m\n",
      "\u001b[32m2025-05-04 17:31:27.283\u001b[0m | \u001b[1mINFO    \u001b[0m | \u001b[36msm.evaluation.sm_metrics\u001b[0m:\u001b[36mprecision_recall_f1\u001b[0m:\u001b[36m620\u001b[0m - \u001b[1mNumber of permutation is: 3776965920.0\u001b[0m\n",
      "\u001b[32m2025-05-04 17:31:27.283\u001b[0m | \u001b[31m\u001b[1mERROR   \u001b[0m | \u001b[36msm.evaluation.sm_metrics\u001b[0m:\u001b[36mprecision_recall_f1\u001b[0m:\u001b[36m626\u001b[0m - \u001b[31m\u001b[1mPermutation explosion: got 3776965920.0 combinations from 1 pair groups\u001b[0m\n",
      "\u001b[32m2025-05-04 17:31:27.283\u001b[0m | \u001b[1mINFO    \u001b[0m | \u001b[36msm.evaluation.sm_metrics\u001b[0m:\u001b[36mprecision_recall_f1\u001b[0m:\u001b[36m632\u001b[0m - \u001b[1m- [(label=http://wikiba.se/ontology#Statement, X=(#nodes=6), X_prime=(#nodes=42))]\u001b[0m\n",
      "\u001b[32m2025-05-04 17:31:27.286\u001b[0m | \u001b[1mINFO    \u001b[0m | \u001b[36msm.evaluation.sm_metrics\u001b[0m:\u001b[36mprecision_recall_f1\u001b[0m:\u001b[36m620\u001b[0m - \u001b[1mNumber of permutation is: 116280.0\u001b[0m\n",
      "\u001b[32m2025-05-04 17:31:27.286\u001b[0m | \u001b[31m\u001b[1mERROR   \u001b[0m | \u001b[36msm.evaluation.sm_metrics\u001b[0m:\u001b[36mprecision_recall_f1\u001b[0m:\u001b[36m626\u001b[0m - \u001b[31m\u001b[1mPermutation explosion: got 116280.0 combinations from 1 pair groups\u001b[0m\n",
      "\u001b[32m2025-05-04 17:31:27.287\u001b[0m | \u001b[1mINFO    \u001b[0m | \u001b[36msm.evaluation.sm_metrics\u001b[0m:\u001b[36mprecision_recall_f1\u001b[0m:\u001b[36m632\u001b[0m - \u001b[1m- [(label=http://wikiba.se/ontology#Statement, X=(#nodes=4), X_prime=(#nodes=20))]\u001b[0m\n",
      "\u001b[32m2025-05-04 17:31:27.690\u001b[0m | \u001b[1mINFO    \u001b[0m | \u001b[36msm.evaluation.sm_metrics\u001b[0m:\u001b[36mprecision_recall_f1\u001b[0m:\u001b[36m620\u001b[0m - \u001b[1mNumber of permutation is: 524160.0\u001b[0m\n",
      "\u001b[32m2025-05-04 17:31:27.690\u001b[0m | \u001b[31m\u001b[1mERROR   \u001b[0m | \u001b[36msm.evaluation.sm_metrics\u001b[0m:\u001b[36mprecision_recall_f1\u001b[0m:\u001b[36m626\u001b[0m - \u001b[31m\u001b[1mPermutation explosion: got 524160.0 combinations from 1 pair groups\u001b[0m\n",
      "\u001b[32m2025-05-04 17:31:27.691\u001b[0m | \u001b[1mINFO    \u001b[0m | \u001b[36msm.evaluation.sm_metrics\u001b[0m:\u001b[36mprecision_recall_f1\u001b[0m:\u001b[36m632\u001b[0m - \u001b[1m- [(label=http://wikiba.se/ontology#Statement, X=(#nodes=5), X_prime=(#nodes=16))]\u001b[0m\n",
      "\u001b[32m2025-05-04 17:31:27.693\u001b[0m | \u001b[1mINFO    \u001b[0m | \u001b[36msm.evaluation.sm_metrics\u001b[0m:\u001b[36mprecision_recall_f1\u001b[0m:\u001b[36m620\u001b[0m - \u001b[1mNumber of permutation is: 116280.0\u001b[0m\n",
      "\u001b[32m2025-05-04 17:31:27.694\u001b[0m | \u001b[31m\u001b[1mERROR   \u001b[0m | \u001b[36msm.evaluation.sm_metrics\u001b[0m:\u001b[36mprecision_recall_f1\u001b[0m:\u001b[36m626\u001b[0m - \u001b[31m\u001b[1mPermutation explosion: got 116280.0 combinations from 1 pair groups\u001b[0m\n",
      "\u001b[32m2025-05-04 17:31:27.694\u001b[0m | \u001b[1mINFO    \u001b[0m | \u001b[36msm.evaluation.sm_metrics\u001b[0m:\u001b[36mprecision_recall_f1\u001b[0m:\u001b[36m632\u001b[0m - \u001b[1m- [(label=http://wikiba.se/ontology#Statement, X=(#nodes=4), X_prime=(#nodes=20))]\u001b[0m\n",
      "\u001b[32m2025-05-04 17:31:27.696\u001b[0m | \u001b[1mINFO    \u001b[0m | \u001b[36msm.evaluation.sm_metrics\u001b[0m:\u001b[36mprecision_recall_f1\u001b[0m:\u001b[36m620\u001b[0m - \u001b[1mNumber of permutation is: 427518000.0\u001b[0m\n",
      "\u001b[32m2025-05-04 17:31:27.696\u001b[0m | \u001b[31m\u001b[1mERROR   \u001b[0m | \u001b[36msm.evaluation.sm_metrics\u001b[0m:\u001b[36mprecision_recall_f1\u001b[0m:\u001b[36m626\u001b[0m - \u001b[31m\u001b[1mPermutation explosion: got 427518000.0 combinations from 1 pair groups\u001b[0m\n",
      "\u001b[32m2025-05-04 17:31:27.696\u001b[0m | \u001b[1mINFO    \u001b[0m | \u001b[36msm.evaluation.sm_metrics\u001b[0m:\u001b[36mprecision_recall_f1\u001b[0m:\u001b[36m632\u001b[0m - \u001b[1m- [(label=http://wikiba.se/ontology#Statement, X=(#nodes=6), X_prime=(#nodes=30))]\u001b[0m\n",
      "\u001b[32m2025-05-04 17:31:27.697\u001b[0m | \u001b[1mINFO    \u001b[0m | \u001b[36msm.evaluation.sm_metrics\u001b[0m:\u001b[36mprecision_recall_f1\u001b[0m:\u001b[36m620\u001b[0m - \u001b[1mNumber of permutation is: 10260432000.0\u001b[0m\n",
      "\u001b[32m2025-05-04 17:31:27.697\u001b[0m | \u001b[31m\u001b[1mERROR   \u001b[0m | \u001b[36msm.evaluation.sm_metrics\u001b[0m:\u001b[36mprecision_recall_f1\u001b[0m:\u001b[36m626\u001b[0m - \u001b[31m\u001b[1mPermutation explosion: got 10260432000.0 combinations from 1 pair groups\u001b[0m\n",
      "\u001b[32m2025-05-04 17:31:27.698\u001b[0m | \u001b[1mINFO    \u001b[0m | \u001b[36msm.evaluation.sm_metrics\u001b[0m:\u001b[36mprecision_recall_f1\u001b[0m:\u001b[36m632\u001b[0m - \u001b[1m- [(label=http://wikiba.se/ontology#Statement, X=(#nodes=7), X_prime=(#nodes=30))]\u001b[0m\n",
      "\u001b[32m2025-05-04 17:31:27.699\u001b[0m | \u001b[1mINFO    \u001b[0m | \u001b[36msm.evaluation.sm_metrics\u001b[0m:\u001b[36mprecision_recall_f1\u001b[0m:\u001b[36m620\u001b[0m - \u001b[1mNumber of permutation is: 10260432000.0\u001b[0m\n",
      "\u001b[32m2025-05-04 17:31:27.699\u001b[0m | \u001b[31m\u001b[1mERROR   \u001b[0m | \u001b[36msm.evaluation.sm_metrics\u001b[0m:\u001b[36mprecision_recall_f1\u001b[0m:\u001b[36m626\u001b[0m - \u001b[31m\u001b[1mPermutation explosion: got 10260432000.0 combinations from 1 pair groups\u001b[0m\n",
      "\u001b[32m2025-05-04 17:31:27.699\u001b[0m | \u001b[1mINFO    \u001b[0m | \u001b[36msm.evaluation.sm_metrics\u001b[0m:\u001b[36mprecision_recall_f1\u001b[0m:\u001b[36m632\u001b[0m - \u001b[1m- [(label=http://wikiba.se/ontology#Statement, X=(#nodes=7), X_prime=(#nodes=30))]\u001b[0m\n",
      "\u001b[32m2025-05-04 17:31:27.703\u001b[0m | \u001b[1mINFO    \u001b[0m | \u001b[36mgp.misc.evaluation.evaluator\u001b[0m:\u001b[36mavg_cpa\u001b[0m:\u001b[36m78\u001b[0m - \u001b[1mfor copying...\n",
      "\tcpa-p\tcpa-r\tcpa-f1\n",
      "24.47,58.47,33.73\u001b[0m\n"
     ]
    }
   ],
   "source": [
    "ctas = evaluator.avg_cta(examples, [x[\"sm\"][0].value for x in output])\n",
    "cpas = evaluator.avg_cpa(examples, [x[\"sm\"][0].value for x in output])"
   ]
  },
  {
   "cell_type": "code",
   "execution_count": null,
   "metadata": {},
   "outputs": [],
   "source": []
  }
 ],
 "metadata": {
  "kernelspec": {
   "display_name": ".venv",
   "language": "python",
   "name": "python3"
  },
  "language_info": {
   "codemirror_mode": {
    "name": "ipython",
    "version": 3
   },
   "file_extension": ".py",
   "mimetype": "text/x-python",
   "name": "python",
   "nbconvert_exporter": "python",
   "pygments_lexer": "ipython3",
   "version": "3.12.10"
  }
 },
 "nbformat": 4,
 "nbformat_minor": 2
}
