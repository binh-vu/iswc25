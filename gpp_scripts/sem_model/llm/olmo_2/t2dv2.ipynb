{
 "cells": [
  {
   "cell_type": "code",
   "execution_count": 1,
   "metadata": {},
   "outputs": [],
   "source": [
    "import os\n",
    "import socket\n",
    "from gp.actors.data import (\n",
    "    DataActor,\n",
    "    DataActorArgs,\n",
    "    DBActor,\n",
    "    DBActorArgs,\n",
    "    KGDBArgs,\n",
    "    KGName,\n",
    ")\n",
    "from libactor.storage._global_storage import GlobalStorage\n",
    "from experiments.config import DATABASE_DIR, LIBACTOR_STORAGE_DIR\n",
    "from gpp.llm.qa_llm import ExplicitV100, Schema\n",
    "from gpp.actors.qa_llm_actor import QALLMActor, QALLMActorArgs\n",
    "from sm.misc.funcs import get_classpath\n",
    "from libactor.cache import IdentObj\n",
    "from tqdm import tqdm\n",
    "from gp.actors.data import KGDB\n",
    "from gp.misc.evaluation.evaluator import Evaluator\n",
    "from experiments.dag import *"
   ]
  },
  {
   "cell_type": "code",
   "execution_count": 2,
   "metadata": {},
   "outputs": [
    {
     "name": "stderr",
     "output_type": "stream",
     "text": [
      "\u001b[32m2025-05-04 17:20:05.753\u001b[0m | \u001b[1mINFO    \u001b[0m | \u001b[36mlibactor.storage._global_storage\u001b[0m:\u001b[36minit\u001b[0m:\u001b[36m41\u001b[0m - \u001b[1mGlobalStorage: /Users/rook/workspace/projects/resm-v2/data/libactor\u001b[0m\n"
     ]
    },
    {
     "data": {
      "text/plain": [
       "<libactor.storage._global_storage.GlobalStorage at 0x307325820>"
      ]
     },
     "execution_count": 2,
     "metadata": {},
     "output_type": "execute_result"
    }
   ],
   "source": [
    "os.environ[\"HF_REMOTE\"] = \"http://localhost:31061\"\n",
    "GlobalStorage.init(LIBACTOR_STORAGE_DIR)"
   ]
  },
  {
   "cell_type": "code",
   "execution_count": 3,
   "metadata": {},
   "outputs": [],
   "source": [
    "data_actor = create_data_actor()"
   ]
  },
  {
   "cell_type": "code",
   "execution_count": 5,
   "metadata": {},
   "outputs": [],
   "source": [
    "from gp.actors.data import GPExample\n",
    "from gp.actors.el.canreg import CanRegActor, CanRegActorArgs, OracleCanReg\n",
    "from gp.entity_linking.candidate_recognition import HeuristicCanReg\n",
    "from kgdata.models.ontology import Ontology\n",
    "from libactor.dag import DAG, Flow, Cardinality\n",
    "from libactor.cache import BackendFactory, cache\n",
    "from libactor.cache.identitied_object import IdentObj\n",
    "from libactor.misc import identity\n",
    "from sm.misc.ray_helper import get_instance\n",
    "\n",
    "dag = create_gpp_dag(\n",
    "    {\n",
    "        # \"data\": data_actor,\n",
    "        # \"table\": Flow(\"data\", identity, Cardinality.ONE_TO_MANY),\n",
    "        \"table\": [get_table, remove_unknown_columns],\n",
    "        \"canreg\": [\n",
    "            Flow(\n",
    "                \"table\",\n",
    "                CanRegActor(\n",
    "                    CanRegActorArgs(\n",
    "                        clspath=get_classpath(HeuristicCanReg),\n",
    "                        clsargs={},\n",
    "                    )\n",
    "                ),\n",
    "            ),\n",
    "            Flow([\"table\", \"\"], filter_skip_entity_columns),\n",
    "        ],\n",
    "        \"sm\": Flow(\n",
    "            [\"table\", \"canreg\"],\n",
    "            QALLMActor(\n",
    "                QALLMActorArgs(\n",
    "                    model=get_classpath(ExplicitV100),\n",
    "                    model_args={\"model\": \"allenai/OLMo-2-1124-7B-Instruct\"},\n",
    "                    # model_args={\"model\": \"google/gemma-2-9b-it\", \"max_new_tokens\": 64},\n",
    "                    # model_args={\"model\": \"meta-llama/Meta-Llama-3.1-8B-Instruct\"},\n",
    "                    # model_args={\"model\": \"meta-llama/Llama-2-7b-hf\"},\n",
    "                    sample_size=100,\n",
    "                    seed=42,\n",
    "                    can_ask_for_correction=True,\n",
    "                )\n",
    "            ),\n",
    "        ),\n",
    "    },\n",
    ")"
   ]
  },
  {
   "cell_type": "code",
   "execution_count": 6,
   "metadata": {},
   "outputs": [
    {
     "name": "stderr",
     "output_type": "stream",
     "text": [
      "\u001b[32m2025-05-04 17:20:24.475\u001b[0m | \u001b[34m\u001b[1mDEBUG   \u001b[0m | \u001b[36mtimer\u001b[0m:\u001b[36mwatch_and_report\u001b[0m:\u001b[36m74\u001b[0m - \u001b[34m\u001b[1mDataActor.load_dataset deserialize: 0.023 seconds\u001b[0m\n"
     ]
    }
   ],
   "source": [
    "dataset_name = \"t2dv2\"\n",
    "kgdb = data_actor.get_kgdb(dataset_name)\n",
    "examples = data_actor.load_dataset(dataset_name)"
   ]
  },
  {
   "cell_type": "code",
   "execution_count": 7,
   "metadata": {},
   "outputs": [
    {
     "name": "stderr",
     "output_type": "stream",
     "text": [
      "dag parallel processing:   0%|          | 0/224 [00:00<?, ?it/s]2025-05-04 17:20:30.141 | INFO     | libactor.storage._global_storage:init:41 - GlobalStorage: /Users/rook/workspace/projects/resm-v2/data/libactor\n",
      "2025-05-04 17:20:30.141 | INFO     | libactor.storage._global_storage:init:41 - GlobalStorage: /Users/rook/workspace/projects/resm-v2/data/libactor\n",
      "2025-05-04 17:20:30.209 | DEBUG    | timer:watch_and_report:74 - DataActor.load_dataset deserialize: 0.068 seconds\n",
      "2025-05-04 17:20:30.210 | DEBUG    | timer:watch_and_report:74 - DataActor.load_dataset deserialize: 0.069 seconds\n",
      "2025-05-04 17:20:30.215 | DEBUG    | gpp.actors.qa_llm_actor:get_agent:89 - Working directory for agent: /Users/rook/workspace/projects/resm-v2/data/libactor/QALLMActor_100/a8ea4a43\n",
      "2025-05-04 17:20:30.216 | DEBUG    | gpp.actors.qa_llm_actor:get_agent:89 - Working directory for agent: /Users/rook/workspace/projects/resm-v2/data/libactor/QALLMActor_100/a8ea4a43\n",
      "dag parallel processing: 100%|██████████| 224/224 [00:04<00:00, 55.93it/s]\n"
     ]
    }
   ],
   "source": [
    "contextfn = get_gpp_context(data_actor, dataset_name)\n",
    "output = dag.par_process(\n",
    "    [{\"table\": (ex,)} for ex in examples],\n",
    "    {\"sm\", \"table\"},\n",
    "    [contextfn for _ in examples],\n",
    "    n_jobs=2,\n",
    ")"
   ]
  },
  {
   "cell_type": "code",
   "execution_count": 8,
   "metadata": {},
   "outputs": [
    {
     "data": {
      "text/plain": [
       "'t2dv2__10151359_0_8168779773862259178'"
      ]
     },
     "metadata": {},
     "output_type": "display_data"
    },
    {
     "data": {
      "application/vnd.microsoft.datawrangler.viewer.v0+json": {
       "columns": [
        {
         "name": "index",
         "rawType": "int64",
         "type": "integer"
        },
        {
         "name": "Title",
         "rawType": "object",
         "type": "string"
        },
        {
         "name": "Author",
         "rawType": "object",
         "type": "string"
        }
       ],
       "conversionMethod": "pd.DataFrame",
       "ref": "bd8f7e48-173c-462c-8bbc-b9b6702b2057",
       "rows": [
        [
         "0",
         "Adventures of Huckleberry Finn",
         "Mark Twain"
        ],
        [
         "1",
         "The Adventures of Super Diaper Baby",
         "Dav Pilkey"
        ],
        [
         "2",
         "The Adventures of Tom Sawyer",
         "Mark Twain"
        ],
        [
         "3",
         "Alice series",
         "Phyllis Reynolds Naylor"
        ],
        [
         "4",
         "All the King's Men",
         "Robert Penn Warren"
        ],
        [
         "5",
         "Always Running",
         "Luis J. Rodriguez"
        ],
        [
         "6",
         "American Psycho",
         "Bret Easton Ellis"
        ],
        [
         "7",
         "An American Tragedy",
         "Theodore Dreiser"
        ],
        [
         "8",
         "The Anarchist Cookbook",
         "William Powell"
        ],
        [
         "9",
         "Anastasia Again!",
         "Lois Lowry"
        ],
        [
         "10",
         "And Tango Makes Three",
         "Justin Richardson and Peter Parnell"
        ],
        [
         "11",
         "Angus, Thongs and Full-Frontal Snogging",
         "Louise Rennison"
        ],
        [
         "12",
         "Annie on My Mind",
         "Nancy Garden"
        ],
        [
         "13",
         "Are You There God? It's Me, Margaret",
         "Judy Blume"
        ],
        [
         "14",
         "Arming America",
         "Michael Bellasiles"
        ],
        [
         "15",
         "Arizona Kid",
         "Ron Koertge"
        ],
        [
         "16",
         "As I Lay Dying",
         "William Faulkner"
        ],
        [
         "17",
         "Asking About Sex and Growing Up",
         "Joanna Cole"
        ],
        [
         "18",
         "Athletic Shorts",
         "Chris Crutcher"
        ],
        [
         "19",
         "Beloved",
         "Toni Morrison"
        ],
        [
         "20",
         "Black Boy",
         "Richard Wright"
        ],
        [
         "21",
         "Bless Me, Ultima",
         "Rudolfo A. Anaya"
        ],
        [
         "22",
         "Blood and Chocolate",
         "Annette Curtis Klause"
        ],
        [
         "23",
         "Blubber",
         "Judy Blume"
        ],
        [
         "24",
         "The Bluest Eye",
         "Toni Morrison"
        ],
        [
         "25",
         "The Boy Who Lost His Face",
         "Louis Sachar"
        ],
        [
         "26",
         "Boys and Sex",
         "Wardell Pomeroy"
        ],
        [
         "27",
         "Brave New World",
         "Aldous Huxley"
        ],
        [
         "28",
         "Bridge to Terabithia",
         "Katherine Paterson"
        ],
        [
         "29",
         "Bumps in the Night",
         "Harry Allard"
        ],
        [
         "30",
         "The Call of the Wild",
         "Jack London"
        ],
        [
         "31",
         "Captain Underpants",
         "Dav Pilkey"
        ],
        [
         "32",
         "Carrie",
         "Stephen King"
        ],
        [
         "33",
         "The Catcher in the Rye",
         "J. D. Salinger"
        ],
        [
         "34",
         "Catch-22",
         "Joseph Heller"
        ],
        [
         "35",
         "Cat's Cradle",
         "Kurt Vonnegut"
        ],
        [
         "36",
         "The Chocolate War",
         "Robert Cormier"
        ],
        [
         "37",
         "Christine",
         "Stephen King"
        ],
        [
         "38",
         "A Clockwork Orange",
         "Anthony Burgess"
        ],
        [
         "39",
         "The Color Purple",
         "Alice Walker"
        ],
        [
         "40",
         "Crazy Lady!",
         "Jane Conly"
        ],
        [
         "41",
         "Cross Your Fingers, Spit in Your Hat",
         "Alvin Schwartz"
        ],
        [
         "42",
         "Cujo",
         "Stephen King"
        ],
        [
         "43",
         "Curses, Hexes and Spells",
         "Daniel Cohen"
        ],
        [
         "44",
         "Cut",
         "Patricia McCormick"
        ],
        [
         "45",
         "Daddy's Roommate",
         "Michael Willhoite"
        ],
        [
         "46",
         "A Day No Pigs Would Die",
         "Robert Newton Peck"
        ],
        [
         "47",
         "The Dead Zone",
         "Stephen King"
        ],
        [
         "48",
         "Deenie",
         "Judy Blume"
        ],
        [
         "49",
         "Detour for Emmy",
         "Marilyn Reynolds"
        ]
       ],
       "shape": {
        "columns": 2,
        "rows": 151
       }
      },
      "text/html": [
       "<div>\n",
       "<style scoped>\n",
       "    .dataframe tbody tr th:only-of-type {\n",
       "        vertical-align: middle;\n",
       "    }\n",
       "\n",
       "    .dataframe tbody tr th {\n",
       "        vertical-align: top;\n",
       "    }\n",
       "\n",
       "    .dataframe thead th {\n",
       "        text-align: right;\n",
       "    }\n",
       "</style>\n",
       "<table border=\"1\" class=\"dataframe\">\n",
       "  <thead>\n",
       "    <tr style=\"text-align: right;\">\n",
       "      <th></th>\n",
       "      <th>Title</th>\n",
       "      <th>Author</th>\n",
       "    </tr>\n",
       "  </thead>\n",
       "  <tbody>\n",
       "    <tr>\n",
       "      <th>0</th>\n",
       "      <td>Adventures of Huckleberry Finn</td>\n",
       "      <td>Mark Twain</td>\n",
       "    </tr>\n",
       "    <tr>\n",
       "      <th>1</th>\n",
       "      <td>The Adventures of Super Diaper Baby</td>\n",
       "      <td>Dav Pilkey</td>\n",
       "    </tr>\n",
       "    <tr>\n",
       "      <th>2</th>\n",
       "      <td>The Adventures of Tom Sawyer</td>\n",
       "      <td>Mark Twain</td>\n",
       "    </tr>\n",
       "    <tr>\n",
       "      <th>3</th>\n",
       "      <td>Alice series</td>\n",
       "      <td>Phyllis Reynolds Naylor</td>\n",
       "    </tr>\n",
       "    <tr>\n",
       "      <th>4</th>\n",
       "      <td>All the King's Men</td>\n",
       "      <td>Robert Penn Warren</td>\n",
       "    </tr>\n",
       "    <tr>\n",
       "      <th>...</th>\n",
       "      <td>...</td>\n",
       "      <td>...</td>\n",
       "    </tr>\n",
       "    <tr>\n",
       "      <th>146</th>\n",
       "      <td>The Wish Giver</td>\n",
       "      <td>Bill Brittain</td>\n",
       "    </tr>\n",
       "    <tr>\n",
       "      <th>147</th>\n",
       "      <td>The Witches</td>\n",
       "      <td>Roald Dahl</td>\n",
       "    </tr>\n",
       "    <tr>\n",
       "      <th>148</th>\n",
       "      <td>Women in Love</td>\n",
       "      <td>D. H. Lawrence</td>\n",
       "    </tr>\n",
       "    <tr>\n",
       "      <th>149</th>\n",
       "      <td>Women on Top: How Real Life Has Changed Women?...</td>\n",
       "      <td>Nancy Friday</td>\n",
       "    </tr>\n",
       "    <tr>\n",
       "      <th>150</th>\n",
       "      <td>A Wrinkle in Time</td>\n",
       "      <td>Madeleine L'Engle</td>\n",
       "    </tr>\n",
       "  </tbody>\n",
       "</table>\n",
       "<p>151 rows × 2 columns</p>\n",
       "</div>"
      ],
      "text/plain": [
       "                                                 Title  \\\n",
       "0                       Adventures of Huckleberry Finn   \n",
       "1                  The Adventures of Super Diaper Baby   \n",
       "2                         The Adventures of Tom Sawyer   \n",
       "3                                         Alice series   \n",
       "4                                   All the King's Men   \n",
       "..                                                 ...   \n",
       "146                                     The Wish Giver   \n",
       "147                                        The Witches   \n",
       "148                                      Women in Love   \n",
       "149  Women on Top: How Real Life Has Changed Women?...   \n",
       "150                                  A Wrinkle in Time   \n",
       "\n",
       "                      Author  \n",
       "0                 Mark Twain  \n",
       "1                 Dav Pilkey  \n",
       "2                 Mark Twain  \n",
       "3    Phyllis Reynolds Naylor  \n",
       "4         Robert Penn Warren  \n",
       "..                       ...  \n",
       "146            Bill Brittain  \n",
       "147               Roald Dahl  \n",
       "148           D. H. Lawrence  \n",
       "149             Nancy Friday  \n",
       "150        Madeleine L'Engle  \n",
       "\n",
       "[151 rows x 2 columns]"
      ]
     },
     "metadata": {},
     "output_type": "display_data"
    },
    {
     "data": {
      "application/vnd.jupyter.widget-view+json": {
       "model_id": "e3c58f87625b48728e8b0335d8011f5e",
       "version_major": 2,
       "version_minor": 0
      },
      "text/plain": [
       "HTML(value='<pre>\\n00.\\t<span style=\"background: #b7eb8f; color: black; padding: 2px; border-radius: 3px;\">[0]…"
      ]
     },
     "metadata": {},
     "output_type": "display_data"
    }
   ],
   "source": [
    "assert [ex.id for ex in examples] == [exout[\"table\"][0].value.id for exout in output]\n",
    "display(output[0][\"table\"][0].value.id)\n",
    "display(output[0][\"table\"][0].value.table.table.df)\n",
    "output[0][\"sm\"][0].value.print(env=\"notebook\")"
   ]
  },
  {
   "cell_type": "code",
   "execution_count": 9,
   "metadata": {},
   "outputs": [],
   "source": [
    "import serde.json\n",
    "\n",
    "from experiments.config import DATA_DIR\n",
    "from experiments.misc import get_notebook_output_file\n",
    "\n",
    "outfile = get_notebook_output_file(DATA_DIR / \"experiments\", 4, \".json\")\n",
    "serde.json.ser(\n",
    "    {x[\"table\"][0].value.id: x[\"sm\"][0].value.to_dict() for x in output},\n",
    "    outfile,\n",
    "    indent=2,\n",
    ")"
   ]
  },
  {
   "cell_type": "code",
   "execution_count": 8,
   "metadata": {},
   "outputs": [],
   "source": [
    "evaluator = Evaluator(kgdb.ontology.value, kgdb.pydb.entity_labels.cache())"
   ]
  },
  {
   "cell_type": "code",
   "execution_count": 9,
   "metadata": {},
   "outputs": [
    {
     "name": "stderr",
     "output_type": "stream",
     "text": [
      "\u001b[32m2025-04-18 14:10:06.231\u001b[0m | \u001b[1mINFO    \u001b[0m | \u001b[36mgp.misc.evaluation.evaluator\u001b[0m:\u001b[36mavg_cta\u001b[0m:\u001b[36m104\u001b[0m - \u001b[1mfor copying...\n",
      "\tcta-p\tcta-r\tcta-f1\n",
      "91.22,89.44,89.44\u001b[0m\n",
      "\u001b[32m2025-04-18 14:10:07.021\u001b[0m | \u001b[1mINFO    \u001b[0m | \u001b[36mgp.misc.evaluation.evaluator\u001b[0m:\u001b[36mavg_cpa\u001b[0m:\u001b[36m78\u001b[0m - \u001b[1mfor copying...\n",
      "\tcpa-p\tcpa-r\tcpa-f1\n",
      "63.29,60.99,61.50\u001b[0m\n"
     ]
    }
   ],
   "source": [
    "ctas = evaluator.avg_cta(examples, [x[\"sm\"][0].value for x in output])\n",
    "cpas = evaluator.avg_cpa(examples, [x[\"sm\"][0].value for x in output])"
   ]
  },
  {
   "cell_type": "code",
   "execution_count": null,
   "metadata": {},
   "outputs": [],
   "source": []
  }
 ],
 "metadata": {
  "kernelspec": {
   "display_name": ".venv",
   "language": "python",
   "name": "python3"
  },
  "language_info": {
   "codemirror_mode": {
    "name": "ipython",
    "version": 3
   },
   "file_extension": ".py",
   "mimetype": "text/x-python",
   "name": "python",
   "nbconvert_exporter": "python",
   "pygments_lexer": "ipython3",
   "version": "3.12.10"
  }
 },
 "nbformat": 4,
 "nbformat_minor": 2
}
