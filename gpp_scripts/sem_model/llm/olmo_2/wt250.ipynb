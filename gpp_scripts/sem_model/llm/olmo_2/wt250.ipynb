{
 "cells": [
  {
   "cell_type": "code",
   "execution_count": 1,
   "metadata": {},
   "outputs": [],
   "source": [
    "import os\n",
    "import socket\n",
    "from gp.actors.data import (\n",
    "    DataActor,\n",
    "    DataActorArgs,\n",
    "    DBActor,\n",
    "    DBActorArgs,\n",
    "    KGDBArgs,\n",
    "    KGName,\n",
    ")\n",
    "from libactor.storage._global_storage import GlobalStorage\n",
    "from experiments.config import DATA_DIR, DATABASE_DIR, LIBACTOR_STORAGE_DIR\n",
    "from gpp.llm.qa_llm import ExplicitV100, Schema\n",
    "from gpp.actors.qa_llm_actor import QALLMActor, QALLMActorArgs\n",
    "from sm.misc.funcs import get_classpath\n",
    "from libactor.cache import IdentObj\n",
    "from tqdm import tqdm\n",
    "from gp.actors.data import KGDB\n",
    "from gp.misc.evaluation.evaluator import Evaluator\n",
    "from experiments.dag import *\n",
    "from experiments.misc import *"
   ]
  },
  {
   "cell_type": "code",
   "execution_count": 2,
   "metadata": {},
   "outputs": [
    {
     "name": "stderr",
     "output_type": "stream",
     "text": [
      "\u001b[32m2025-05-04 17:21:24.802\u001b[0m | \u001b[1mINFO    \u001b[0m | \u001b[36mlibactor.storage._global_storage\u001b[0m:\u001b[36minit\u001b[0m:\u001b[36m41\u001b[0m - \u001b[1mGlobalStorage: /Users/rook/workspace/projects/resm-v2/data/libactor\u001b[0m\n"
     ]
    },
    {
     "data": {
      "text/plain": [
       "<libactor.storage._global_storage.GlobalStorage at 0x1101651c0>"
      ]
     },
     "execution_count": 2,
     "metadata": {},
     "output_type": "execute_result"
    }
   ],
   "source": [
    "os.environ[\"HF_REMOTE\"] = \"http://localhost:31071\"\n",
    "GlobalStorage.init(LIBACTOR_STORAGE_DIR)"
   ]
  },
  {
   "cell_type": "code",
   "execution_count": 3,
   "metadata": {},
   "outputs": [],
   "source": [
    "data_actor = create_data_actor()"
   ]
  },
  {
   "cell_type": "code",
   "execution_count": 4,
   "metadata": {},
   "outputs": [],
   "source": [
    "from gp.actors.data import GPExample\n",
    "from gp.actors.el.canreg import CanRegActor, CanRegActorArgs, OracleCanReg\n",
    "from gp.entity_linking.candidate_recognition import HeuristicCanReg\n",
    "from kgdata.models.ontology import Ontology\n",
    "from libactor.dag import DAG, Flow, Cardinality\n",
    "from libactor.cache import BackendFactory, cache\n",
    "from libactor.cache.identitied_object import IdentObj\n",
    "from libactor.misc import identity\n",
    "from sm.misc.ray_helper import get_instance\n",
    "\n",
    "dag = create_gpp_dag(\n",
    "    {\n",
    "        # \"data\": data_actor,\n",
    "        # \"table\": Flow(\"data\", identity, Cardinality.ONE_TO_MANY),\n",
    "        \"table\": [get_table, remove_unknown_columns],\n",
    "        \"canreg\": Flow(\n",
    "            \"table\",\n",
    "            CanRegActor(\n",
    "                CanRegActorArgs(\n",
    "                    clspath=get_classpath(HeuristicCanReg),\n",
    "                    clsargs={},\n",
    "                )\n",
    "            ),\n",
    "        ),\n",
    "        \"sm\": Flow(\n",
    "            [\"table\", \"canreg\"],\n",
    "            QALLMActor(\n",
    "                QALLMActorArgs(\n",
    "                    model=get_classpath(ExplicitV100),\n",
    "                    model_args={\"model\": \"allenai/OLMo-2-1124-7B-Instruct\"},\n",
    "                    # model_args={\"model\": \"google/gemma-2-9b-it\", \"max_new_tokens\": 64},\n",
    "                    # model_args={\"model\": \"meta-llama/Meta-Llama-3.1-8B-Instruct\"},\n",
    "                    # model_args={\"model\": \"meta-llama/Llama-2-7b-hf\"},\n",
    "                    sample_size=100,\n",
    "                    seed=42,\n",
    "                    can_ask_for_correction=True,\n",
    "                )\n",
    "            ),\n",
    "        ),\n",
    "    },\n",
    ")"
   ]
  },
  {
   "cell_type": "code",
   "execution_count": 5,
   "metadata": {},
   "outputs": [
    {
     "name": "stderr",
     "output_type": "stream",
     "text": [
      "\u001b[32m2025-05-04 17:21:29.670\u001b[0m | \u001b[34m\u001b[1mDEBUG   \u001b[0m | \u001b[36mtimer\u001b[0m:\u001b[36mwatch_and_report\u001b[0m:\u001b[36m74\u001b[0m - \u001b[34m\u001b[1mDataActor.load_dataset deserialize: 0.214 seconds\u001b[0m\n"
     ]
    }
   ],
   "source": [
    "dataset_name = \"wt250\"\n",
    "kgdb = data_actor.get_kgdb(dataset_name)\n",
    "examples = data_actor.load_dataset(dataset_name)"
   ]
  },
  {
   "cell_type": "code",
   "execution_count": 6,
   "metadata": {},
   "outputs": [
    {
     "name": "stderr",
     "output_type": "stream",
     "text": [
      "dag parallel processing:   0%|          | 0/250 [00:00<?, ?it/s]\u001b[32m2025-05-04 17:21:31.035\u001b[0m | \u001b[34m\u001b[1mDEBUG   \u001b[0m | \u001b[36mgpp.actors.qa_llm_actor\u001b[0m:\u001b[36mget_agent\u001b[0m:\u001b[36m89\u001b[0m - \u001b[34m\u001b[1mWorking directory for agent: /Users/rook/workspace/projects/resm-v2/data/libactor/QALLMActor_100/a8ea4a43\u001b[0m\n",
      "dag parallel processing: 100%|██████████| 250/250 [00:01<00:00, 136.93it/s]\n"
     ]
    }
   ],
   "source": [
    "contextfn = get_gpp_context(data_actor, dataset_name)\n",
    "output = dag.par_process(\n",
    "    [{\"table\": (ex,)} for ex in examples],\n",
    "    {\"sm\", \"table\"},\n",
    "    [contextfn for _ in examples],\n",
    "    n_jobs=1,\n",
    ")"
   ]
  },
  {
   "cell_type": "markdown",
   "metadata": {},
   "source": [
    "Save experiment outcomes so we can analyze them in detail later."
   ]
  },
  {
   "cell_type": "code",
   "execution_count": 7,
   "metadata": {},
   "outputs": [
    {
     "data": {
      "text/plain": [
       "'wt250__1950–51_La_Liga'"
      ]
     },
     "metadata": {},
     "output_type": "display_data"
    },
    {
     "data": {
      "application/vnd.microsoft.datawrangler.viewer.v0+json": {
       "columns": [
        {
         "name": "index",
         "rawType": "int64",
         "type": "integer"
        },
        {
         "name": "Club",
         "rawType": "object",
         "type": "string"
        },
        {
         "name": "City",
         "rawType": "object",
         "type": "string"
        },
        {
         "name": "Stadium",
         "rawType": "object",
         "type": "string"
        }
       ],
       "conversionMethod": "pd.DataFrame",
       "ref": "9f259f49-3cc6-4203-9c4b-d3a627538a5c",
       "rows": [
        [
         "0",
         "Alcoyano",
         "Alcoy",
         "El Collao"
        ],
        [
         "1",
         "Atlético Bilbao",
         "Bilbao",
         "San Mamés"
        ],
        [
         "2",
         "Atlético Madrid",
         "Madrid",
         "Metropolitano"
        ],
        [
         "3",
         "Barcelona",
         "Barcelona",
         "Les Corts"
        ],
        [
         "4",
         "Celta",
         "Vigo",
         "Balaídos"
        ],
        [
         "5",
         "Deportivo La Coruña",
         "A Coruña",
         "Riazor"
        ],
        [
         "6",
         "Español",
         "Barcelona",
         "Sarriá"
        ],
        [
         "7",
         "Lérida",
         "Lérida",
         "Campo de los Deportes"
        ],
        [
         "8",
         "Málaga",
         "Málaga",
         "La Rosaleda"
        ],
        [
         "9",
         "Murcia",
         "Murcia",
         "La Condomina"
        ],
        [
         "10",
         "Real Madrid",
         "Madrid",
         "Chamartín"
        ],
        [
         "11",
         "Real Santander",
         "Santander",
         "El Sardinero"
        ],
        [
         "12",
         "Real Sociedad",
         "San Sebastián",
         "Atotxa"
        ],
        [
         "13",
         "Sevilla",
         "Seville",
         "Nervión"
        ],
        [
         "14",
         "Valencia",
         "Valencia",
         "Mestalla"
        ],
        [
         "15",
         "Valladolid",
         "Valladolid",
         "Municipal"
        ]
       ],
       "shape": {
        "columns": 3,
        "rows": 16
       }
      },
      "text/html": [
       "<div>\n",
       "<style scoped>\n",
       "    .dataframe tbody tr th:only-of-type {\n",
       "        vertical-align: middle;\n",
       "    }\n",
       "\n",
       "    .dataframe tbody tr th {\n",
       "        vertical-align: top;\n",
       "    }\n",
       "\n",
       "    .dataframe thead th {\n",
       "        text-align: right;\n",
       "    }\n",
       "</style>\n",
       "<table border=\"1\" class=\"dataframe\">\n",
       "  <thead>\n",
       "    <tr style=\"text-align: right;\">\n",
       "      <th></th>\n",
       "      <th>Club</th>\n",
       "      <th>City</th>\n",
       "      <th>Stadium</th>\n",
       "    </tr>\n",
       "  </thead>\n",
       "  <tbody>\n",
       "    <tr>\n",
       "      <th>0</th>\n",
       "      <td>Alcoyano</td>\n",
       "      <td>Alcoy</td>\n",
       "      <td>El Collao</td>\n",
       "    </tr>\n",
       "    <tr>\n",
       "      <th>1</th>\n",
       "      <td>Atlético Bilbao</td>\n",
       "      <td>Bilbao</td>\n",
       "      <td>San Mamés</td>\n",
       "    </tr>\n",
       "    <tr>\n",
       "      <th>2</th>\n",
       "      <td>Atlético Madrid</td>\n",
       "      <td>Madrid</td>\n",
       "      <td>Metropolitano</td>\n",
       "    </tr>\n",
       "    <tr>\n",
       "      <th>3</th>\n",
       "      <td>Barcelona</td>\n",
       "      <td>Barcelona</td>\n",
       "      <td>Les Corts</td>\n",
       "    </tr>\n",
       "    <tr>\n",
       "      <th>4</th>\n",
       "      <td>Celta</td>\n",
       "      <td>Vigo</td>\n",
       "      <td>Balaídos</td>\n",
       "    </tr>\n",
       "    <tr>\n",
       "      <th>5</th>\n",
       "      <td>Deportivo La Coruña</td>\n",
       "      <td>A Coruña</td>\n",
       "      <td>Riazor</td>\n",
       "    </tr>\n",
       "    <tr>\n",
       "      <th>6</th>\n",
       "      <td>Español</td>\n",
       "      <td>Barcelona</td>\n",
       "      <td>Sarriá</td>\n",
       "    </tr>\n",
       "    <tr>\n",
       "      <th>7</th>\n",
       "      <td>Lérida</td>\n",
       "      <td>Lérida</td>\n",
       "      <td>Campo de los Deportes</td>\n",
       "    </tr>\n",
       "    <tr>\n",
       "      <th>8</th>\n",
       "      <td>Málaga</td>\n",
       "      <td>Málaga</td>\n",
       "      <td>La Rosaleda</td>\n",
       "    </tr>\n",
       "    <tr>\n",
       "      <th>9</th>\n",
       "      <td>Murcia</td>\n",
       "      <td>Murcia</td>\n",
       "      <td>La Condomina</td>\n",
       "    </tr>\n",
       "    <tr>\n",
       "      <th>10</th>\n",
       "      <td>Real Madrid</td>\n",
       "      <td>Madrid</td>\n",
       "      <td>Chamartín</td>\n",
       "    </tr>\n",
       "    <tr>\n",
       "      <th>11</th>\n",
       "      <td>Real Santander</td>\n",
       "      <td>Santander</td>\n",
       "      <td>El Sardinero</td>\n",
       "    </tr>\n",
       "    <tr>\n",
       "      <th>12</th>\n",
       "      <td>Real Sociedad</td>\n",
       "      <td>San Sebastián</td>\n",
       "      <td>Atotxa</td>\n",
       "    </tr>\n",
       "    <tr>\n",
       "      <th>13</th>\n",
       "      <td>Sevilla</td>\n",
       "      <td>Seville</td>\n",
       "      <td>Nervión</td>\n",
       "    </tr>\n",
       "    <tr>\n",
       "      <th>14</th>\n",
       "      <td>Valencia</td>\n",
       "      <td>Valencia</td>\n",
       "      <td>Mestalla</td>\n",
       "    </tr>\n",
       "    <tr>\n",
       "      <th>15</th>\n",
       "      <td>Valladolid</td>\n",
       "      <td>Valladolid</td>\n",
       "      <td>Municipal</td>\n",
       "    </tr>\n",
       "  </tbody>\n",
       "</table>\n",
       "</div>"
      ],
      "text/plain": [
       "                   Club           City                Stadium\n",
       "0              Alcoyano          Alcoy              El Collao\n",
       "1       Atlético Bilbao         Bilbao              San Mamés\n",
       "2       Atlético Madrid         Madrid          Metropolitano\n",
       "3             Barcelona      Barcelona              Les Corts\n",
       "4                 Celta           Vigo               Balaídos\n",
       "5   Deportivo La Coruña       A Coruña                 Riazor\n",
       "6               Español      Barcelona                 Sarriá\n",
       "7                Lérida         Lérida  Campo de los Deportes\n",
       "8                Málaga         Málaga            La Rosaleda\n",
       "9                Murcia         Murcia           La Condomina\n",
       "10          Real Madrid         Madrid              Chamartín\n",
       "11       Real Santander      Santander           El Sardinero\n",
       "12        Real Sociedad  San Sebastián                 Atotxa\n",
       "13              Sevilla        Seville                Nervión\n",
       "14             Valencia       Valencia               Mestalla\n",
       "15           Valladolid     Valladolid              Municipal"
      ]
     },
     "metadata": {},
     "output_type": "display_data"
    },
    {
     "data": {
      "application/vnd.jupyter.widget-view+json": {
       "model_id": "c17e0a95e744436e83de7bd6a9a6137d",
       "version_major": 2,
       "version_minor": 0
      },
      "text/plain": [
       "HTML(value='<pre>\\n00.\\t<span style=\"background: #b7eb8f; color: black; padding: 2px; border-radius: 3px;\">[0]…"
      ]
     },
     "metadata": {},
     "output_type": "display_data"
    }
   ],
   "source": [
    "ei = 4\n",
    "assert [ex.id for ex in examples] == [exout[\"table\"][0].value.id for exout in output]\n",
    "display(output[ei][\"table\"][0].value.id)\n",
    "display(output[ei][\"table\"][0].value.table.table.df)\n",
    "output[ei][\"sm\"][0].value.print(env=\"notebook\")"
   ]
  },
  {
   "cell_type": "code",
   "execution_count": 8,
   "metadata": {},
   "outputs": [],
   "source": [
    "import serde.json\n",
    "\n",
    "from experiments.config import DATA_DIR\n",
    "from experiments.misc import get_notebook_output_file\n",
    "\n",
    "outfile = get_notebook_output_file(DATA_DIR / \"experiments\", 4, \".json\")\n",
    "serde.json.ser(\n",
    "    {x[\"table\"][0].value.id: x[\"sm\"][0].value.to_dict() for x in output},\n",
    "    outfile,\n",
    "    indent=2,\n",
    ")"
   ]
  },
  {
   "cell_type": "code",
   "execution_count": 9,
   "metadata": {},
   "outputs": [],
   "source": [
    "evaluator = Evaluator(kgdb.ontology.value, kgdb.pydb.entity_labels.cache())"
   ]
  },
  {
   "cell_type": "code",
   "execution_count": 10,
   "metadata": {},
   "outputs": [
    {
     "name": "stderr",
     "output_type": "stream",
     "text": [
      "\u001b[32m2025-05-04 17:22:00.519\u001b[0m | \u001b[1mINFO    \u001b[0m | \u001b[36mgp.misc.evaluation.evaluator\u001b[0m:\u001b[36mavg_cta\u001b[0m:\u001b[36m104\u001b[0m - \u001b[1mfor copying...\n",
      "\tcta-p\tcta-r\tcta-f1\n",
      "48.75,48.93,48.38\u001b[0m\n",
      "\u001b[32m2025-05-04 17:22:00.543\u001b[0m | \u001b[1mINFO    \u001b[0m | \u001b[36msm.evaluation.sm_metrics\u001b[0m:\u001b[36mprecision_recall_f1\u001b[0m:\u001b[36m620\u001b[0m - \u001b[1mNumber of permutation is: 116280.0\u001b[0m\n",
      "\u001b[32m2025-05-04 17:22:00.543\u001b[0m | \u001b[31m\u001b[1mERROR   \u001b[0m | \u001b[36msm.evaluation.sm_metrics\u001b[0m:\u001b[36mprecision_recall_f1\u001b[0m:\u001b[36m626\u001b[0m - \u001b[31m\u001b[1mPermutation explosion: got 116280.0 combinations from 1 pair groups\u001b[0m\n",
      "\u001b[32m2025-05-04 17:22:00.544\u001b[0m | \u001b[1mINFO    \u001b[0m | \u001b[36msm.evaluation.sm_metrics\u001b[0m:\u001b[36mprecision_recall_f1\u001b[0m:\u001b[36m632\u001b[0m - \u001b[1m- [(label=http://wikiba.se/ontology#Statement, X=(#nodes=4), X_prime=(#nodes=20))]\u001b[0m\n",
      "\u001b[32m2025-05-04 17:22:00.544\u001b[0m | \u001b[1mINFO    \u001b[0m | \u001b[36msm.evaluation.sm_metrics\u001b[0m:\u001b[36mprecision_recall_f1\u001b[0m:\u001b[36m620\u001b[0m - \u001b[1mNumber of permutation is: 116280.0\u001b[0m\n",
      "\u001b[32m2025-05-04 17:22:00.544\u001b[0m | \u001b[31m\u001b[1mERROR   \u001b[0m | \u001b[36msm.evaluation.sm_metrics\u001b[0m:\u001b[36mprecision_recall_f1\u001b[0m:\u001b[36m626\u001b[0m - \u001b[31m\u001b[1mPermutation explosion: got 116280.0 combinations from 1 pair groups\u001b[0m\n",
      "\u001b[32m2025-05-04 17:22:00.545\u001b[0m | \u001b[1mINFO    \u001b[0m | \u001b[36msm.evaluation.sm_metrics\u001b[0m:\u001b[36mprecision_recall_f1\u001b[0m:\u001b[36m632\u001b[0m - \u001b[1m- [(label=http://wikiba.se/ontology#Statement, X=(#nodes=4), X_prime=(#nodes=20))]\u001b[0m\n",
      "\u001b[32m2025-05-04 17:22:00.785\u001b[0m | \u001b[1mINFO    \u001b[0m | \u001b[36msm.evaluation.sm_metrics\u001b[0m:\u001b[36mprecision_recall_f1\u001b[0m:\u001b[36m620\u001b[0m - \u001b[1mNumber of permutation is: 135970773120.0\u001b[0m\n",
      "\u001b[32m2025-05-04 17:22:00.785\u001b[0m | \u001b[31m\u001b[1mERROR   \u001b[0m | \u001b[36msm.evaluation.sm_metrics\u001b[0m:\u001b[36mprecision_recall_f1\u001b[0m:\u001b[36m626\u001b[0m - \u001b[31m\u001b[1mPermutation explosion: got 135970773120.0 combinations from 1 pair groups\u001b[0m\n",
      "\u001b[32m2025-05-04 17:22:00.786\u001b[0m | \u001b[1mINFO    \u001b[0m | \u001b[36msm.evaluation.sm_metrics\u001b[0m:\u001b[36mprecision_recall_f1\u001b[0m:\u001b[36m632\u001b[0m - \u001b[1m- [(label=http://wikiba.se/ontology#Statement, X=(#nodes=7), X_prime=(#nodes=42))]\u001b[0m\n",
      "\u001b[32m2025-05-04 17:22:00.787\u001b[0m | \u001b[1mINFO    \u001b[0m | \u001b[36msm.evaluation.sm_metrics\u001b[0m:\u001b[36mprecision_recall_f1\u001b[0m:\u001b[36m620\u001b[0m - \u001b[1mNumber of permutation is: 135970773120.0\u001b[0m\n",
      "\u001b[32m2025-05-04 17:22:00.787\u001b[0m | \u001b[31m\u001b[1mERROR   \u001b[0m | \u001b[36msm.evaluation.sm_metrics\u001b[0m:\u001b[36mprecision_recall_f1\u001b[0m:\u001b[36m626\u001b[0m - \u001b[31m\u001b[1mPermutation explosion: got 135970773120.0 combinations from 1 pair groups\u001b[0m\n",
      "\u001b[32m2025-05-04 17:22:00.787\u001b[0m | \u001b[1mINFO    \u001b[0m | \u001b[36msm.evaluation.sm_metrics\u001b[0m:\u001b[36mprecision_recall_f1\u001b[0m:\u001b[36m632\u001b[0m - \u001b[1m- [(label=http://wikiba.se/ontology#Statement, X=(#nodes=7), X_prime=(#nodes=42))]\u001b[0m\n",
      "\u001b[32m2025-05-04 17:22:00.788\u001b[0m | \u001b[1mINFO    \u001b[0m | \u001b[36msm.evaluation.sm_metrics\u001b[0m:\u001b[36mprecision_recall_f1\u001b[0m:\u001b[36m620\u001b[0m - \u001b[1mNumber of permutation is: 135970773120.0\u001b[0m\n",
      "\u001b[32m2025-05-04 17:22:00.788\u001b[0m | \u001b[31m\u001b[1mERROR   \u001b[0m | \u001b[36msm.evaluation.sm_metrics\u001b[0m:\u001b[36mprecision_recall_f1\u001b[0m:\u001b[36m626\u001b[0m - \u001b[31m\u001b[1mPermutation explosion: got 135970773120.0 combinations from 1 pair groups\u001b[0m\n",
      "\u001b[32m2025-05-04 17:22:00.788\u001b[0m | \u001b[1mINFO    \u001b[0m | \u001b[36msm.evaluation.sm_metrics\u001b[0m:\u001b[36mprecision_recall_f1\u001b[0m:\u001b[36m632\u001b[0m - \u001b[1m- [(label=http://wikiba.se/ontology#Statement, X=(#nodes=7), X_prime=(#nodes=42))]\u001b[0m\n",
      "\u001b[32m2025-05-04 17:22:00.789\u001b[0m | \u001b[1mINFO    \u001b[0m | \u001b[36msm.evaluation.sm_metrics\u001b[0m:\u001b[36mprecision_recall_f1\u001b[0m:\u001b[36m620\u001b[0m - \u001b[1mNumber of permutation is: 135970773120.0\u001b[0m\n",
      "\u001b[32m2025-05-04 17:22:00.789\u001b[0m | \u001b[31m\u001b[1mERROR   \u001b[0m | \u001b[36msm.evaluation.sm_metrics\u001b[0m:\u001b[36mprecision_recall_f1\u001b[0m:\u001b[36m626\u001b[0m - \u001b[31m\u001b[1mPermutation explosion: got 135970773120.0 combinations from 1 pair groups\u001b[0m\n",
      "\u001b[32m2025-05-04 17:22:00.790\u001b[0m | \u001b[1mINFO    \u001b[0m | \u001b[36msm.evaluation.sm_metrics\u001b[0m:\u001b[36mprecision_recall_f1\u001b[0m:\u001b[36m632\u001b[0m - \u001b[1m- [(label=http://wikiba.se/ontology#Statement, X=(#nodes=7), X_prime=(#nodes=42))]\u001b[0m\n",
      "\u001b[32m2025-05-04 17:22:00.791\u001b[0m | \u001b[1mINFO    \u001b[0m | \u001b[36msm.evaluation.sm_metrics\u001b[0m:\u001b[36mprecision_recall_f1\u001b[0m:\u001b[36m620\u001b[0m - \u001b[1mNumber of permutation is: 303600.0\u001b[0m\n",
      "\u001b[32m2025-05-04 17:22:00.791\u001b[0m | \u001b[31m\u001b[1mERROR   \u001b[0m | \u001b[36msm.evaluation.sm_metrics\u001b[0m:\u001b[36mprecision_recall_f1\u001b[0m:\u001b[36m626\u001b[0m - \u001b[31m\u001b[1mPermutation explosion: got 303600.0 combinations from 1 pair groups\u001b[0m\n",
      "\u001b[32m2025-05-04 17:22:00.792\u001b[0m | \u001b[1mINFO    \u001b[0m | \u001b[36msm.evaluation.sm_metrics\u001b[0m:\u001b[36mprecision_recall_f1\u001b[0m:\u001b[36m632\u001b[0m - \u001b[1m- [(label=http://wikiba.se/ontology#Statement, X=(#nodes=4), X_prime=(#nodes=25))]\u001b[0m\n",
      "\u001b[32m2025-05-04 17:22:00.799\u001b[0m | \u001b[1mINFO    \u001b[0m | \u001b[36msm.evaluation.sm_metrics\u001b[0m:\u001b[36mprecision_recall_f1\u001b[0m:\u001b[36m620\u001b[0m - \u001b[1mNumber of permutation is: 175560.0\u001b[0m\n",
      "\u001b[32m2025-05-04 17:22:00.799\u001b[0m | \u001b[31m\u001b[1mERROR   \u001b[0m | \u001b[36msm.evaluation.sm_metrics\u001b[0m:\u001b[36mprecision_recall_f1\u001b[0m:\u001b[36m626\u001b[0m - \u001b[31m\u001b[1mPermutation explosion: got 175560.0 combinations from 1 pair groups\u001b[0m\n",
      "\u001b[32m2025-05-04 17:22:00.799\u001b[0m | \u001b[1mINFO    \u001b[0m | \u001b[36msm.evaluation.sm_metrics\u001b[0m:\u001b[36mprecision_recall_f1\u001b[0m:\u001b[36m632\u001b[0m - \u001b[1m- [(label=http://wikiba.se/ontology#Statement, X=(#nodes=4), X_prime=(#nodes=22))]\u001b[0m\n",
      "\u001b[32m2025-05-04 17:22:00.803\u001b[0m | \u001b[1mINFO    \u001b[0m | \u001b[36msm.evaluation.sm_metrics\u001b[0m:\u001b[36mprecision_recall_f1\u001b[0m:\u001b[36m620\u001b[0m - \u001b[1mNumber of permutation is: 427518000.0\u001b[0m\n",
      "\u001b[32m2025-05-04 17:22:00.803\u001b[0m | \u001b[31m\u001b[1mERROR   \u001b[0m | \u001b[36msm.evaluation.sm_metrics\u001b[0m:\u001b[36mprecision_recall_f1\u001b[0m:\u001b[36m626\u001b[0m - \u001b[31m\u001b[1mPermutation explosion: got 427518000.0 combinations from 1 pair groups\u001b[0m\n",
      "\u001b[32m2025-05-04 17:22:00.803\u001b[0m | \u001b[1mINFO    \u001b[0m | \u001b[36msm.evaluation.sm_metrics\u001b[0m:\u001b[36mprecision_recall_f1\u001b[0m:\u001b[36m632\u001b[0m - \u001b[1m- [(label=http://wikiba.se/ontology#Statement, X=(#nodes=6), X_prime=(#nodes=30))]\u001b[0m\n",
      "\u001b[32m2025-05-04 17:22:00.804\u001b[0m | \u001b[1mINFO    \u001b[0m | \u001b[36msm.evaluation.sm_metrics\u001b[0m:\u001b[36mprecision_recall_f1\u001b[0m:\u001b[36m620\u001b[0m - \u001b[1mNumber of permutation is: 427518000.0\u001b[0m\n",
      "\u001b[32m2025-05-04 17:22:00.804\u001b[0m | \u001b[31m\u001b[1mERROR   \u001b[0m | \u001b[36msm.evaluation.sm_metrics\u001b[0m:\u001b[36mprecision_recall_f1\u001b[0m:\u001b[36m626\u001b[0m - \u001b[31m\u001b[1mPermutation explosion: got 427518000.0 combinations from 1 pair groups\u001b[0m\n",
      "\u001b[32m2025-05-04 17:22:00.804\u001b[0m | \u001b[1mINFO    \u001b[0m | \u001b[36msm.evaluation.sm_metrics\u001b[0m:\u001b[36mprecision_recall_f1\u001b[0m:\u001b[36m632\u001b[0m - \u001b[1m- [(label=http://wikiba.se/ontology#Statement, X=(#nodes=6), X_prime=(#nodes=30))]\u001b[0m\n",
      "\u001b[32m2025-05-04 17:22:00.805\u001b[0m | \u001b[1mINFO    \u001b[0m | \u001b[36msm.evaluation.sm_metrics\u001b[0m:\u001b[36mprecision_recall_f1\u001b[0m:\u001b[36m620\u001b[0m - \u001b[1mNumber of permutation is: 427518000.0\u001b[0m\n",
      "\u001b[32m2025-05-04 17:22:00.805\u001b[0m | \u001b[31m\u001b[1mERROR   \u001b[0m | \u001b[36msm.evaluation.sm_metrics\u001b[0m:\u001b[36mprecision_recall_f1\u001b[0m:\u001b[36m626\u001b[0m - \u001b[31m\u001b[1mPermutation explosion: got 427518000.0 combinations from 1 pair groups\u001b[0m\n",
      "\u001b[32m2025-05-04 17:22:00.805\u001b[0m | \u001b[1mINFO    \u001b[0m | \u001b[36msm.evaluation.sm_metrics\u001b[0m:\u001b[36mprecision_recall_f1\u001b[0m:\u001b[36m632\u001b[0m - \u001b[1m- [(label=http://wikiba.se/ontology#Statement, X=(#nodes=6), X_prime=(#nodes=30))]\u001b[0m\n",
      "\u001b[32m2025-05-04 17:22:00.806\u001b[0m | \u001b[1mINFO    \u001b[0m | \u001b[36msm.evaluation.sm_metrics\u001b[0m:\u001b[36mprecision_recall_f1\u001b[0m:\u001b[36m620\u001b[0m - \u001b[1mNumber of permutation is: 427518000.0\u001b[0m\n",
      "\u001b[32m2025-05-04 17:22:00.807\u001b[0m | \u001b[31m\u001b[1mERROR   \u001b[0m | \u001b[36msm.evaluation.sm_metrics\u001b[0m:\u001b[36mprecision_recall_f1\u001b[0m:\u001b[36m626\u001b[0m - \u001b[31m\u001b[1mPermutation explosion: got 427518000.0 combinations from 1 pair groups\u001b[0m\n",
      "\u001b[32m2025-05-04 17:22:00.807\u001b[0m | \u001b[1mINFO    \u001b[0m | \u001b[36msm.evaluation.sm_metrics\u001b[0m:\u001b[36mprecision_recall_f1\u001b[0m:\u001b[36m632\u001b[0m - \u001b[1m- [(label=http://wikiba.se/ontology#Statement, X=(#nodes=6), X_prime=(#nodes=30))]\u001b[0m\n",
      "\u001b[32m2025-05-04 17:22:00.807\u001b[0m | \u001b[1mINFO    \u001b[0m | \u001b[36msm.evaluation.sm_metrics\u001b[0m:\u001b[36mprecision_recall_f1\u001b[0m:\u001b[36m620\u001b[0m - \u001b[1mNumber of permutation is: 10260432000.0\u001b[0m\n",
      "\u001b[32m2025-05-04 17:22:00.808\u001b[0m | \u001b[31m\u001b[1mERROR   \u001b[0m | \u001b[36msm.evaluation.sm_metrics\u001b[0m:\u001b[36mprecision_recall_f1\u001b[0m:\u001b[36m626\u001b[0m - \u001b[31m\u001b[1mPermutation explosion: got 10260432000.0 combinations from 1 pair groups\u001b[0m\n",
      "\u001b[32m2025-05-04 17:22:00.808\u001b[0m | \u001b[1mINFO    \u001b[0m | \u001b[36msm.evaluation.sm_metrics\u001b[0m:\u001b[36mprecision_recall_f1\u001b[0m:\u001b[36m632\u001b[0m - \u001b[1m- [(label=http://wikiba.se/ontology#Statement, X=(#nodes=7), X_prime=(#nodes=30))]\u001b[0m\n",
      "\u001b[32m2025-05-04 17:22:00.809\u001b[0m | \u001b[1mINFO    \u001b[0m | \u001b[36msm.evaluation.sm_metrics\u001b[0m:\u001b[36mprecision_recall_f1\u001b[0m:\u001b[36m620\u001b[0m - \u001b[1mNumber of permutation is: 10260432000.0\u001b[0m\n",
      "\u001b[32m2025-05-04 17:22:00.809\u001b[0m | \u001b[31m\u001b[1mERROR   \u001b[0m | \u001b[36msm.evaluation.sm_metrics\u001b[0m:\u001b[36mprecision_recall_f1\u001b[0m:\u001b[36m626\u001b[0m - \u001b[31m\u001b[1mPermutation explosion: got 10260432000.0 combinations from 1 pair groups\u001b[0m\n",
      "\u001b[32m2025-05-04 17:22:00.809\u001b[0m | \u001b[1mINFO    \u001b[0m | \u001b[36msm.evaluation.sm_metrics\u001b[0m:\u001b[36mprecision_recall_f1\u001b[0m:\u001b[36m632\u001b[0m - \u001b[1m- [(label=http://wikiba.se/ontology#Statement, X=(#nodes=7), X_prime=(#nodes=30))]\u001b[0m\n",
      "\u001b[32m2025-05-04 17:22:00.810\u001b[0m | \u001b[1mINFO    \u001b[0m | \u001b[36msm.evaluation.sm_metrics\u001b[0m:\u001b[36mprecision_recall_f1\u001b[0m:\u001b[36m620\u001b[0m - \u001b[1mNumber of permutation is: 10260432000.0\u001b[0m\n",
      "\u001b[32m2025-05-04 17:22:00.810\u001b[0m | \u001b[31m\u001b[1mERROR   \u001b[0m | \u001b[36msm.evaluation.sm_metrics\u001b[0m:\u001b[36mprecision_recall_f1\u001b[0m:\u001b[36m626\u001b[0m - \u001b[31m\u001b[1mPermutation explosion: got 10260432000.0 combinations from 1 pair groups\u001b[0m\n",
      "\u001b[32m2025-05-04 17:22:00.810\u001b[0m | \u001b[1mINFO    \u001b[0m | \u001b[36msm.evaluation.sm_metrics\u001b[0m:\u001b[36mprecision_recall_f1\u001b[0m:\u001b[36m632\u001b[0m - \u001b[1m- [(label=http://wikiba.se/ontology#Statement, X=(#nodes=7), X_prime=(#nodes=30))]\u001b[0m\n",
      "\u001b[32m2025-05-04 17:22:00.811\u001b[0m | \u001b[1mINFO    \u001b[0m | \u001b[36msm.evaluation.sm_metrics\u001b[0m:\u001b[36mprecision_recall_f1\u001b[0m:\u001b[36m620\u001b[0m - \u001b[1mNumber of permutation is: 10260432000.0\u001b[0m\n",
      "\u001b[32m2025-05-04 17:22:00.811\u001b[0m | \u001b[31m\u001b[1mERROR   \u001b[0m | \u001b[36msm.evaluation.sm_metrics\u001b[0m:\u001b[36mprecision_recall_f1\u001b[0m:\u001b[36m626\u001b[0m - \u001b[31m\u001b[1mPermutation explosion: got 10260432000.0 combinations from 1 pair groups\u001b[0m\n",
      "\u001b[32m2025-05-04 17:22:00.811\u001b[0m | \u001b[1mINFO    \u001b[0m | \u001b[36msm.evaluation.sm_metrics\u001b[0m:\u001b[36mprecision_recall_f1\u001b[0m:\u001b[36m632\u001b[0m - \u001b[1m- [(label=http://wikiba.se/ontology#Statement, X=(#nodes=7), X_prime=(#nodes=30))]\u001b[0m\n",
      "\u001b[32m2025-05-04 17:22:00.812\u001b[0m | \u001b[1mINFO    \u001b[0m | \u001b[36msm.evaluation.sm_metrics\u001b[0m:\u001b[36mprecision_recall_f1\u001b[0m:\u001b[36m620\u001b[0m - \u001b[1mNumber of permutation is: 10260432000.0\u001b[0m\n",
      "\u001b[32m2025-05-04 17:22:00.812\u001b[0m | \u001b[31m\u001b[1mERROR   \u001b[0m | \u001b[36msm.evaluation.sm_metrics\u001b[0m:\u001b[36mprecision_recall_f1\u001b[0m:\u001b[36m626\u001b[0m - \u001b[31m\u001b[1mPermutation explosion: got 10260432000.0 combinations from 1 pair groups\u001b[0m\n",
      "\u001b[32m2025-05-04 17:22:00.812\u001b[0m | \u001b[1mINFO    \u001b[0m | \u001b[36msm.evaluation.sm_metrics\u001b[0m:\u001b[36mprecision_recall_f1\u001b[0m:\u001b[36m632\u001b[0m - \u001b[1m- [(label=http://wikiba.se/ontology#Statement, X=(#nodes=7), X_prime=(#nodes=30))]\u001b[0m\n",
      "\u001b[32m2025-05-04 17:22:00.813\u001b[0m | \u001b[1mINFO    \u001b[0m | \u001b[36msm.evaluation.sm_metrics\u001b[0m:\u001b[36mprecision_recall_f1\u001b[0m:\u001b[36m620\u001b[0m - \u001b[1mNumber of permutation is: 10260432000.0\u001b[0m\n",
      "\u001b[32m2025-05-04 17:22:00.814\u001b[0m | \u001b[31m\u001b[1mERROR   \u001b[0m | \u001b[36msm.evaluation.sm_metrics\u001b[0m:\u001b[36mprecision_recall_f1\u001b[0m:\u001b[36m626\u001b[0m - \u001b[31m\u001b[1mPermutation explosion: got 10260432000.0 combinations from 1 pair groups\u001b[0m\n",
      "\u001b[32m2025-05-04 17:22:00.814\u001b[0m | \u001b[1mINFO    \u001b[0m | \u001b[36msm.evaluation.sm_metrics\u001b[0m:\u001b[36mprecision_recall_f1\u001b[0m:\u001b[36m632\u001b[0m - \u001b[1m- [(label=http://wikiba.se/ontology#Statement, X=(#nodes=7), X_prime=(#nodes=30))]\u001b[0m\n",
      "\u001b[32m2025-05-04 17:22:00.815\u001b[0m | \u001b[1mINFO    \u001b[0m | \u001b[36msm.evaluation.sm_metrics\u001b[0m:\u001b[36mprecision_recall_f1\u001b[0m:\u001b[36m620\u001b[0m - \u001b[1mNumber of permutation is: 10260432000.0\u001b[0m\n",
      "\u001b[32m2025-05-04 17:22:00.815\u001b[0m | \u001b[31m\u001b[1mERROR   \u001b[0m | \u001b[36msm.evaluation.sm_metrics\u001b[0m:\u001b[36mprecision_recall_f1\u001b[0m:\u001b[36m626\u001b[0m - \u001b[31m\u001b[1mPermutation explosion: got 10260432000.0 combinations from 1 pair groups\u001b[0m\n",
      "\u001b[32m2025-05-04 17:22:00.815\u001b[0m | \u001b[1mINFO    \u001b[0m | \u001b[36msm.evaluation.sm_metrics\u001b[0m:\u001b[36mprecision_recall_f1\u001b[0m:\u001b[36m632\u001b[0m - \u001b[1m- [(label=http://wikiba.se/ontology#Statement, X=(#nodes=7), X_prime=(#nodes=30))]\u001b[0m\n",
      "\u001b[32m2025-05-04 17:22:00.816\u001b[0m | \u001b[1mINFO    \u001b[0m | \u001b[36msm.evaluation.sm_metrics\u001b[0m:\u001b[36mprecision_recall_f1\u001b[0m:\u001b[36m620\u001b[0m - \u001b[1mNumber of permutation is: 10260432000.0\u001b[0m\n",
      "\u001b[32m2025-05-04 17:22:00.816\u001b[0m | \u001b[31m\u001b[1mERROR   \u001b[0m | \u001b[36msm.evaluation.sm_metrics\u001b[0m:\u001b[36mprecision_recall_f1\u001b[0m:\u001b[36m626\u001b[0m - \u001b[31m\u001b[1mPermutation explosion: got 10260432000.0 combinations from 1 pair groups\u001b[0m\n",
      "\u001b[32m2025-05-04 17:22:00.816\u001b[0m | \u001b[1mINFO    \u001b[0m | \u001b[36msm.evaluation.sm_metrics\u001b[0m:\u001b[36mprecision_recall_f1\u001b[0m:\u001b[36m632\u001b[0m - \u001b[1m- [(label=http://wikiba.se/ontology#Statement, X=(#nodes=7), X_prime=(#nodes=30))]\u001b[0m\n",
      "\u001b[32m2025-05-04 17:22:01.062\u001b[0m | \u001b[1mINFO    \u001b[0m | \u001b[36msm.evaluation.sm_metrics\u001b[0m:\u001b[36mprecision_recall_f1\u001b[0m:\u001b[36m620\u001b[0m - \u001b[1mNumber of permutation is: 116280.0\u001b[0m\n",
      "\u001b[32m2025-05-04 17:22:01.062\u001b[0m | \u001b[31m\u001b[1mERROR   \u001b[0m | \u001b[36msm.evaluation.sm_metrics\u001b[0m:\u001b[36mprecision_recall_f1\u001b[0m:\u001b[36m626\u001b[0m - \u001b[31m\u001b[1mPermutation explosion: got 116280.0 combinations from 1 pair groups\u001b[0m\n",
      "\u001b[32m2025-05-04 17:22:01.063\u001b[0m | \u001b[1mINFO    \u001b[0m | \u001b[36msm.evaluation.sm_metrics\u001b[0m:\u001b[36mprecision_recall_f1\u001b[0m:\u001b[36m632\u001b[0m - \u001b[1m- [(label=http://wikiba.se/ontology#Statement, X=(#nodes=4), X_prime=(#nodes=20))]\u001b[0m\n",
      "\u001b[32m2025-05-04 17:22:01.209\u001b[0m | \u001b[1mINFO    \u001b[0m | \u001b[36msm.evaluation.sm_metrics\u001b[0m:\u001b[36mprecision_recall_f1\u001b[0m:\u001b[36m620\u001b[0m - \u001b[1mNumber of permutation is: 360360.0\u001b[0m\n",
      "\u001b[32m2025-05-04 17:22:01.209\u001b[0m | \u001b[31m\u001b[1mERROR   \u001b[0m | \u001b[36msm.evaluation.sm_metrics\u001b[0m:\u001b[36mprecision_recall_f1\u001b[0m:\u001b[36m626\u001b[0m - \u001b[31m\u001b[1mPermutation explosion: got 360360.0 combinations from 1 pair groups\u001b[0m\n",
      "\u001b[32m2025-05-04 17:22:01.209\u001b[0m | \u001b[1mINFO    \u001b[0m | \u001b[36msm.evaluation.sm_metrics\u001b[0m:\u001b[36mprecision_recall_f1\u001b[0m:\u001b[36m632\u001b[0m - \u001b[1m- [(label=http://wikiba.se/ontology#Statement, X=(#nodes=5), X_prime=(#nodes=15))]\u001b[0m\n",
      "\u001b[32m2025-05-04 17:22:01.210\u001b[0m | \u001b[1mINFO    \u001b[0m | \u001b[36msm.evaluation.sm_metrics\u001b[0m:\u001b[36mprecision_recall_f1\u001b[0m:\u001b[36m620\u001b[0m - \u001b[1mNumber of permutation is: 360360.0\u001b[0m\n",
      "\u001b[32m2025-05-04 17:22:01.210\u001b[0m | \u001b[31m\u001b[1mERROR   \u001b[0m | \u001b[36msm.evaluation.sm_metrics\u001b[0m:\u001b[36mprecision_recall_f1\u001b[0m:\u001b[36m626\u001b[0m - \u001b[31m\u001b[1mPermutation explosion: got 360360.0 combinations from 1 pair groups\u001b[0m\n",
      "\u001b[32m2025-05-04 17:22:01.210\u001b[0m | \u001b[1mINFO    \u001b[0m | \u001b[36msm.evaluation.sm_metrics\u001b[0m:\u001b[36mprecision_recall_f1\u001b[0m:\u001b[36m632\u001b[0m - \u001b[1m- [(label=http://wikiba.se/ontology#Statement, X=(#nodes=5), X_prime=(#nodes=15))]\u001b[0m\n",
      "\u001b[32m2025-05-04 17:22:01.212\u001b[0m | \u001b[1mINFO    \u001b[0m | \u001b[36msm.evaluation.sm_metrics\u001b[0m:\u001b[36mprecision_recall_f1\u001b[0m:\u001b[36m620\u001b[0m - \u001b[1mNumber of permutation is: 586051200.0\u001b[0m\n",
      "\u001b[32m2025-05-04 17:22:01.212\u001b[0m | \u001b[31m\u001b[1mERROR   \u001b[0m | \u001b[36msm.evaluation.sm_metrics\u001b[0m:\u001b[36mprecision_recall_f1\u001b[0m:\u001b[36m626\u001b[0m - \u001b[31m\u001b[1mPermutation explosion: got 586051200.0 combinations from 1 pair groups\u001b[0m\n",
      "\u001b[32m2025-05-04 17:22:01.213\u001b[0m | \u001b[1mINFO    \u001b[0m | \u001b[36msm.evaluation.sm_metrics\u001b[0m:\u001b[36mprecision_recall_f1\u001b[0m:\u001b[36m632\u001b[0m - \u001b[1m- [(label=http://wikiba.se/ontology#Statement, X=(#nodes=7), X_prime=(#nodes=21))]\u001b[0m\n",
      "\u001b[32m2025-05-04 17:22:01.213\u001b[0m | \u001b[1mINFO    \u001b[0m | \u001b[36msm.evaluation.sm_metrics\u001b[0m:\u001b[36mprecision_recall_f1\u001b[0m:\u001b[36m620\u001b[0m - \u001b[1mNumber of permutation is: 586051200.0\u001b[0m\n",
      "\u001b[32m2025-05-04 17:22:01.213\u001b[0m | \u001b[31m\u001b[1mERROR   \u001b[0m | \u001b[36msm.evaluation.sm_metrics\u001b[0m:\u001b[36mprecision_recall_f1\u001b[0m:\u001b[36m626\u001b[0m - \u001b[31m\u001b[1mPermutation explosion: got 586051200.0 combinations from 1 pair groups\u001b[0m\n",
      "\u001b[32m2025-05-04 17:22:01.214\u001b[0m | \u001b[1mINFO    \u001b[0m | \u001b[36msm.evaluation.sm_metrics\u001b[0m:\u001b[36mprecision_recall_f1\u001b[0m:\u001b[36m632\u001b[0m - \u001b[1m- [(label=http://wikiba.se/ontology#Statement, X=(#nodes=7), X_prime=(#nodes=21))]\u001b[0m\n",
      "\u001b[32m2025-05-04 17:22:01.418\u001b[0m | \u001b[1mINFO    \u001b[0m | \u001b[36msm.evaluation.sm_metrics\u001b[0m:\u001b[36mprecision_recall_f1\u001b[0m:\u001b[36m620\u001b[0m - \u001b[1mNumber of permutation is: 3160080.0\u001b[0m\n",
      "\u001b[32m2025-05-04 17:22:01.419\u001b[0m | \u001b[31m\u001b[1mERROR   \u001b[0m | \u001b[36msm.evaluation.sm_metrics\u001b[0m:\u001b[36mprecision_recall_f1\u001b[0m:\u001b[36m626\u001b[0m - \u001b[31m\u001b[1mPermutation explosion: got 3160080.0 combinations from 1 pair groups\u001b[0m\n",
      "\u001b[32m2025-05-04 17:22:01.419\u001b[0m | \u001b[1mINFO    \u001b[0m | \u001b[36msm.evaluation.sm_metrics\u001b[0m:\u001b[36mprecision_recall_f1\u001b[0m:\u001b[36m632\u001b[0m - \u001b[1m- [(label=http://wikiba.se/ontology#Statement, X=(#nodes=5), X_prime=(#nodes=22))]\u001b[0m\n",
      "\u001b[32m2025-05-04 17:22:01.420\u001b[0m | \u001b[1mINFO    \u001b[0m | \u001b[36msm.evaluation.sm_metrics\u001b[0m:\u001b[36mprecision_recall_f1\u001b[0m:\u001b[36m620\u001b[0m - \u001b[1mNumber of permutation is: 3160080.0\u001b[0m\n",
      "\u001b[32m2025-05-04 17:22:01.420\u001b[0m | \u001b[31m\u001b[1mERROR   \u001b[0m | \u001b[36msm.evaluation.sm_metrics\u001b[0m:\u001b[36mprecision_recall_f1\u001b[0m:\u001b[36m626\u001b[0m - \u001b[31m\u001b[1mPermutation explosion: got 3160080.0 combinations from 1 pair groups\u001b[0m\n",
      "\u001b[32m2025-05-04 17:22:01.420\u001b[0m | \u001b[1mINFO    \u001b[0m | \u001b[36msm.evaluation.sm_metrics\u001b[0m:\u001b[36mprecision_recall_f1\u001b[0m:\u001b[36m632\u001b[0m - \u001b[1m- [(label=http://wikiba.se/ontology#Statement, X=(#nodes=5), X_prime=(#nodes=22))]\u001b[0m\n",
      "\u001b[32m2025-05-04 17:22:02.068\u001b[0m | \u001b[1mINFO    \u001b[0m | \u001b[36msm.evaluation.sm_metrics\u001b[0m:\u001b[36mprecision_recall_f1\u001b[0m:\u001b[36m620\u001b[0m - \u001b[1mNumber of permutation is: 1395360.0\u001b[0m\n",
      "\u001b[32m2025-05-04 17:22:02.069\u001b[0m | \u001b[31m\u001b[1mERROR   \u001b[0m | \u001b[36msm.evaluation.sm_metrics\u001b[0m:\u001b[36mprecision_recall_f1\u001b[0m:\u001b[36m626\u001b[0m - \u001b[31m\u001b[1mPermutation explosion: got 1395360.0 combinations from 1 pair groups\u001b[0m\n",
      "\u001b[32m2025-05-04 17:22:02.069\u001b[0m | \u001b[1mINFO    \u001b[0m | \u001b[36msm.evaluation.sm_metrics\u001b[0m:\u001b[36mprecision_recall_f1\u001b[0m:\u001b[36m632\u001b[0m - \u001b[1m- [(label=http://wikiba.se/ontology#Statement, X=(#nodes=5), X_prime=(#nodes=19))]\u001b[0m\n",
      "\u001b[32m2025-05-04 17:22:02.070\u001b[0m | \u001b[1mINFO    \u001b[0m | \u001b[36msm.evaluation.sm_metrics\u001b[0m:\u001b[36mprecision_recall_f1\u001b[0m:\u001b[36m620\u001b[0m - \u001b[1mNumber of permutation is: 1395360.0\u001b[0m\n",
      "\u001b[32m2025-05-04 17:22:02.070\u001b[0m | \u001b[31m\u001b[1mERROR   \u001b[0m | \u001b[36msm.evaluation.sm_metrics\u001b[0m:\u001b[36mprecision_recall_f1\u001b[0m:\u001b[36m626\u001b[0m - \u001b[31m\u001b[1mPermutation explosion: got 1395360.0 combinations from 1 pair groups\u001b[0m\n",
      "\u001b[32m2025-05-04 17:22:02.070\u001b[0m | \u001b[1mINFO    \u001b[0m | \u001b[36msm.evaluation.sm_metrics\u001b[0m:\u001b[36mprecision_recall_f1\u001b[0m:\u001b[36m632\u001b[0m - \u001b[1m- [(label=http://wikiba.se/ontology#Statement, X=(#nodes=5), X_prime=(#nodes=19))]\u001b[0m\n",
      "\u001b[32m2025-05-04 17:22:02.071\u001b[0m | \u001b[1mINFO    \u001b[0m | \u001b[36msm.evaluation.sm_metrics\u001b[0m:\u001b[36mprecision_recall_f1\u001b[0m:\u001b[36m620\u001b[0m - \u001b[1mNumber of permutation is: 524160.0\u001b[0m\n",
      "\u001b[32m2025-05-04 17:22:02.072\u001b[0m | \u001b[31m\u001b[1mERROR   \u001b[0m | \u001b[36msm.evaluation.sm_metrics\u001b[0m:\u001b[36mprecision_recall_f1\u001b[0m:\u001b[36m626\u001b[0m - \u001b[31m\u001b[1mPermutation explosion: got 524160.0 combinations from 1 pair groups\u001b[0m\n",
      "\u001b[32m2025-05-04 17:22:02.072\u001b[0m | \u001b[1mINFO    \u001b[0m | \u001b[36msm.evaluation.sm_metrics\u001b[0m:\u001b[36mprecision_recall_f1\u001b[0m:\u001b[36m632\u001b[0m - \u001b[1m- [(label=http://wikiba.se/ontology#Statement, X=(#nodes=5), X_prime=(#nodes=16))]\u001b[0m\n",
      "\u001b[32m2025-05-04 17:22:02.073\u001b[0m | \u001b[1mINFO    \u001b[0m | \u001b[36msm.evaluation.sm_metrics\u001b[0m:\u001b[36mprecision_recall_f1\u001b[0m:\u001b[36m620\u001b[0m - \u001b[1mNumber of permutation is: 524160.0\u001b[0m\n",
      "\u001b[32m2025-05-04 17:22:02.073\u001b[0m | \u001b[31m\u001b[1mERROR   \u001b[0m | \u001b[36msm.evaluation.sm_metrics\u001b[0m:\u001b[36mprecision_recall_f1\u001b[0m:\u001b[36m626\u001b[0m - \u001b[31m\u001b[1mPermutation explosion: got 524160.0 combinations from 1 pair groups\u001b[0m\n",
      "\u001b[32m2025-05-04 17:22:02.073\u001b[0m | \u001b[1mINFO    \u001b[0m | \u001b[36msm.evaluation.sm_metrics\u001b[0m:\u001b[36mprecision_recall_f1\u001b[0m:\u001b[36m632\u001b[0m - \u001b[1m- [(label=http://wikiba.se/ontology#Statement, X=(#nodes=5), X_prime=(#nodes=16))]\u001b[0m\n",
      "\u001b[32m2025-05-04 17:22:02.074\u001b[0m | \u001b[1mINFO    \u001b[0m | \u001b[36msm.evaluation.sm_metrics\u001b[0m:\u001b[36mprecision_recall_f1\u001b[0m:\u001b[36m620\u001b[0m - \u001b[1mNumber of permutation is: 1395360.0\u001b[0m\n",
      "\u001b[32m2025-05-04 17:22:02.074\u001b[0m | \u001b[31m\u001b[1mERROR   \u001b[0m | \u001b[36msm.evaluation.sm_metrics\u001b[0m:\u001b[36mprecision_recall_f1\u001b[0m:\u001b[36m626\u001b[0m - \u001b[31m\u001b[1mPermutation explosion: got 1395360.0 combinations from 1 pair groups\u001b[0m\n",
      "\u001b[32m2025-05-04 17:22:02.074\u001b[0m | \u001b[1mINFO    \u001b[0m | \u001b[36msm.evaluation.sm_metrics\u001b[0m:\u001b[36mprecision_recall_f1\u001b[0m:\u001b[36m632\u001b[0m - \u001b[1m- [(label=http://wikiba.se/ontology#Statement, X=(#nodes=5), X_prime=(#nodes=19))]\u001b[0m\n",
      "\u001b[32m2025-05-04 17:22:02.075\u001b[0m | \u001b[1mINFO    \u001b[0m | \u001b[36msm.evaluation.sm_metrics\u001b[0m:\u001b[36mprecision_recall_f1\u001b[0m:\u001b[36m620\u001b[0m - \u001b[1mNumber of permutation is: 1395360.0\u001b[0m\n",
      "\u001b[32m2025-05-04 17:22:02.075\u001b[0m | \u001b[31m\u001b[1mERROR   \u001b[0m | \u001b[36msm.evaluation.sm_metrics\u001b[0m:\u001b[36mprecision_recall_f1\u001b[0m:\u001b[36m626\u001b[0m - \u001b[31m\u001b[1mPermutation explosion: got 1395360.0 combinations from 1 pair groups\u001b[0m\n",
      "\u001b[32m2025-05-04 17:22:02.075\u001b[0m | \u001b[1mINFO    \u001b[0m | \u001b[36msm.evaluation.sm_metrics\u001b[0m:\u001b[36mprecision_recall_f1\u001b[0m:\u001b[36m632\u001b[0m - \u001b[1m- [(label=http://wikiba.se/ontology#Statement, X=(#nodes=5), X_prime=(#nodes=19))]\u001b[0m\n",
      "\u001b[32m2025-05-04 17:22:02.077\u001b[0m | \u001b[1mINFO    \u001b[0m | \u001b[36msm.evaluation.sm_metrics\u001b[0m:\u001b[36mprecision_recall_f1\u001b[0m:\u001b[36m620\u001b[0m - \u001b[1mNumber of permutation is: 1860480.0\u001b[0m\n",
      "\u001b[32m2025-05-04 17:22:02.077\u001b[0m | \u001b[31m\u001b[1mERROR   \u001b[0m | \u001b[36msm.evaluation.sm_metrics\u001b[0m:\u001b[36mprecision_recall_f1\u001b[0m:\u001b[36m626\u001b[0m - \u001b[31m\u001b[1mPermutation explosion: got 1860480.0 combinations from 1 pair groups\u001b[0m\n",
      "\u001b[32m2025-05-04 17:22:02.077\u001b[0m | \u001b[1mINFO    \u001b[0m | \u001b[36msm.evaluation.sm_metrics\u001b[0m:\u001b[36mprecision_recall_f1\u001b[0m:\u001b[36m632\u001b[0m - \u001b[1m- [(label=http://wikiba.se/ontology#Statement, X=(#nodes=5), X_prime=(#nodes=20))]\u001b[0m\n",
      "\u001b[32m2025-05-04 17:22:02.078\u001b[0m | \u001b[1mINFO    \u001b[0m | \u001b[36msm.evaluation.sm_metrics\u001b[0m:\u001b[36mprecision_recall_f1\u001b[0m:\u001b[36m620\u001b[0m - \u001b[1mNumber of permutation is: 1860480.0\u001b[0m\n",
      "\u001b[32m2025-05-04 17:22:02.078\u001b[0m | \u001b[31m\u001b[1mERROR   \u001b[0m | \u001b[36msm.evaluation.sm_metrics\u001b[0m:\u001b[36mprecision_recall_f1\u001b[0m:\u001b[36m626\u001b[0m - \u001b[31m\u001b[1mPermutation explosion: got 1860480.0 combinations from 1 pair groups\u001b[0m\n",
      "\u001b[32m2025-05-04 17:22:02.078\u001b[0m | \u001b[1mINFO    \u001b[0m | \u001b[36msm.evaluation.sm_metrics\u001b[0m:\u001b[36mprecision_recall_f1\u001b[0m:\u001b[36m632\u001b[0m - \u001b[1m- [(label=http://wikiba.se/ontology#Statement, X=(#nodes=5), X_prime=(#nodes=20))]\u001b[0m\n",
      "\u001b[32m2025-05-04 17:22:02.080\u001b[0m | \u001b[1mINFO    \u001b[0m | \u001b[36msm.evaluation.sm_metrics\u001b[0m:\u001b[36mprecision_recall_f1\u001b[0m:\u001b[36m620\u001b[0m - \u001b[1mNumber of permutation is: 93024.0\u001b[0m\n",
      "\u001b[32m2025-05-04 17:22:02.764\u001b[0m | \u001b[1mINFO    \u001b[0m | \u001b[36msm.evaluation.sm_metrics\u001b[0m:\u001b[36mprecision_recall_f1\u001b[0m:\u001b[36m620\u001b[0m - \u001b[1mNumber of permutation is: 93024.0\u001b[0m\n",
      "\u001b[32m2025-05-04 17:22:03.899\u001b[0m | \u001b[1mINFO    \u001b[0m | \u001b[36msm.evaluation.sm_metrics\u001b[0m:\u001b[36mprecision_recall_f1\u001b[0m:\u001b[36m620\u001b[0m - \u001b[1mNumber of permutation is: 3160080.0\u001b[0m\n",
      "\u001b[32m2025-05-04 17:22:03.899\u001b[0m | \u001b[31m\u001b[1mERROR   \u001b[0m | \u001b[36msm.evaluation.sm_metrics\u001b[0m:\u001b[36mprecision_recall_f1\u001b[0m:\u001b[36m626\u001b[0m - \u001b[31m\u001b[1mPermutation explosion: got 3160080.0 combinations from 1 pair groups\u001b[0m\n",
      "\u001b[32m2025-05-04 17:22:03.899\u001b[0m | \u001b[1mINFO    \u001b[0m | \u001b[36msm.evaluation.sm_metrics\u001b[0m:\u001b[36mprecision_recall_f1\u001b[0m:\u001b[36m632\u001b[0m - \u001b[1m- [(label=http://wikiba.se/ontology#Statement, X=(#nodes=5), X_prime=(#nodes=22))]\u001b[0m\n",
      "\u001b[32m2025-05-04 17:22:03.901\u001b[0m | \u001b[1mINFO    \u001b[0m | \u001b[36msm.evaluation.sm_metrics\u001b[0m:\u001b[36mprecision_recall_f1\u001b[0m:\u001b[36m620\u001b[0m - \u001b[1mNumber of permutation is: 3160080.0\u001b[0m\n",
      "\u001b[32m2025-05-04 17:22:03.901\u001b[0m | \u001b[31m\u001b[1mERROR   \u001b[0m | \u001b[36msm.evaluation.sm_metrics\u001b[0m:\u001b[36mprecision_recall_f1\u001b[0m:\u001b[36m626\u001b[0m - \u001b[31m\u001b[1mPermutation explosion: got 3160080.0 combinations from 1 pair groups\u001b[0m\n",
      "\u001b[32m2025-05-04 17:22:03.901\u001b[0m | \u001b[1mINFO    \u001b[0m | \u001b[36msm.evaluation.sm_metrics\u001b[0m:\u001b[36mprecision_recall_f1\u001b[0m:\u001b[36m632\u001b[0m - \u001b[1m- [(label=http://wikiba.se/ontology#Statement, X=(#nodes=5), X_prime=(#nodes=22))]\u001b[0m\n",
      "\u001b[32m2025-05-04 17:22:03.904\u001b[0m | \u001b[1mINFO    \u001b[0m | \u001b[36msm.evaluation.sm_metrics\u001b[0m:\u001b[36mprecision_recall_f1\u001b[0m:\u001b[36m620\u001b[0m - \u001b[1mNumber of permutation is: 116280.0\u001b[0m\n",
      "\u001b[32m2025-05-04 17:22:03.904\u001b[0m | \u001b[31m\u001b[1mERROR   \u001b[0m | \u001b[36msm.evaluation.sm_metrics\u001b[0m:\u001b[36mprecision_recall_f1\u001b[0m:\u001b[36m626\u001b[0m - \u001b[31m\u001b[1mPermutation explosion: got 116280.0 combinations from 1 pair groups\u001b[0m\n",
      "\u001b[32m2025-05-04 17:22:03.904\u001b[0m | \u001b[1mINFO    \u001b[0m | \u001b[36msm.evaluation.sm_metrics\u001b[0m:\u001b[36mprecision_recall_f1\u001b[0m:\u001b[36m632\u001b[0m - \u001b[1m- [(label=http://wikiba.se/ontology#Statement, X=(#nodes=4), X_prime=(#nodes=20))]\u001b[0m\n",
      "\u001b[32m2025-05-04 17:22:04.564\u001b[0m | \u001b[1mINFO    \u001b[0m | \u001b[36msm.evaluation.sm_metrics\u001b[0m:\u001b[36mprecision_recall_f1\u001b[0m:\u001b[36m620\u001b[0m - \u001b[1mNumber of permutation is: 53721360.0\u001b[0m\n",
      "\u001b[32m2025-05-04 17:22:04.564\u001b[0m | \u001b[31m\u001b[1mERROR   \u001b[0m | \u001b[36msm.evaluation.sm_metrics\u001b[0m:\u001b[36mprecision_recall_f1\u001b[0m:\u001b[36m626\u001b[0m - \u001b[31m\u001b[1mPermutation explosion: got 53721360.0 combinations from 1 pair groups\u001b[0m\n",
      "\u001b[32m2025-05-04 17:22:04.564\u001b[0m | \u001b[1mINFO    \u001b[0m | \u001b[36msm.evaluation.sm_metrics\u001b[0m:\u001b[36mprecision_recall_f1\u001b[0m:\u001b[36m632\u001b[0m - \u001b[1m- [(label=http://wikiba.se/ontology#Statement, X=(#nodes=6), X_prime=(#nodes=22))]\u001b[0m\n",
      "\u001b[32m2025-05-04 17:22:04.957\u001b[0m | \u001b[1mINFO    \u001b[0m | \u001b[36msm.evaluation.sm_metrics\u001b[0m:\u001b[36mprecision_recall_f1\u001b[0m:\u001b[36m620\u001b[0m - \u001b[1mNumber of permutation is: 154440.0\u001b[0m\n",
      "\u001b[32m2025-05-04 17:22:04.958\u001b[0m | \u001b[31m\u001b[1mERROR   \u001b[0m | \u001b[36msm.evaluation.sm_metrics\u001b[0m:\u001b[36mprecision_recall_f1\u001b[0m:\u001b[36m626\u001b[0m - \u001b[31m\u001b[1mPermutation explosion: got 154440.0 combinations from 1 pair groups\u001b[0m\n",
      "\u001b[32m2025-05-04 17:22:04.958\u001b[0m | \u001b[1mINFO    \u001b[0m | \u001b[36msm.evaluation.sm_metrics\u001b[0m:\u001b[36mprecision_recall_f1\u001b[0m:\u001b[36m632\u001b[0m - \u001b[1m- [(label=http://wikiba.se/ontology#Statement, X=(#nodes=5), X_prime=(#nodes=13))]\u001b[0m\n",
      "\u001b[32m2025-05-04 17:22:04.959\u001b[0m | \u001b[1mINFO    \u001b[0m | \u001b[36msm.evaluation.sm_metrics\u001b[0m:\u001b[36mprecision_recall_f1\u001b[0m:\u001b[36m620\u001b[0m - \u001b[1mNumber of permutation is: 154440.0\u001b[0m\n",
      "\u001b[32m2025-05-04 17:22:04.959\u001b[0m | \u001b[31m\u001b[1mERROR   \u001b[0m | \u001b[36msm.evaluation.sm_metrics\u001b[0m:\u001b[36mprecision_recall_f1\u001b[0m:\u001b[36m626\u001b[0m - \u001b[31m\u001b[1mPermutation explosion: got 154440.0 combinations from 1 pair groups\u001b[0m\n",
      "\u001b[32m2025-05-04 17:22:04.959\u001b[0m | \u001b[1mINFO    \u001b[0m | \u001b[36msm.evaluation.sm_metrics\u001b[0m:\u001b[36mprecision_recall_f1\u001b[0m:\u001b[36m632\u001b[0m - \u001b[1m- [(label=http://wikiba.se/ontology#Statement, X=(#nodes=5), X_prime=(#nodes=13))]\u001b[0m\n",
      "\u001b[32m2025-05-04 17:22:05.157\u001b[0m | \u001b[1mINFO    \u001b[0m | \u001b[36msm.evaluation.sm_metrics\u001b[0m:\u001b[36mprecision_recall_f1\u001b[0m:\u001b[36m620\u001b[0m - \u001b[1mNumber of permutation is: 1402410240.0\u001b[0m\n",
      "\u001b[32m2025-05-04 17:22:05.158\u001b[0m | \u001b[31m\u001b[1mERROR   \u001b[0m | \u001b[36msm.evaluation.sm_metrics\u001b[0m:\u001b[36mprecision_recall_f1\u001b[0m:\u001b[36m626\u001b[0m - \u001b[31m\u001b[1mPermutation explosion: got 1402410240.0 combinations from 1 pair groups\u001b[0m\n",
      "\u001b[32m2025-05-04 17:22:05.158\u001b[0m | \u001b[1mINFO    \u001b[0m | \u001b[36msm.evaluation.sm_metrics\u001b[0m:\u001b[36mprecision_recall_f1\u001b[0m:\u001b[36m632\u001b[0m - \u001b[1m- [(label=http://wikiba.se/ontology#Statement, X=(#nodes=6), X_prime=(#nodes=36))]\u001b[0m\n",
      "\u001b[32m2025-05-04 17:22:05.159\u001b[0m | \u001b[1mINFO    \u001b[0m | \u001b[36msm.evaluation.sm_metrics\u001b[0m:\u001b[36mprecision_recall_f1\u001b[0m:\u001b[36m620\u001b[0m - \u001b[1mNumber of permutation is: 116280.0\u001b[0m\n",
      "\u001b[32m2025-05-04 17:22:05.159\u001b[0m | \u001b[31m\u001b[1mERROR   \u001b[0m | \u001b[36msm.evaluation.sm_metrics\u001b[0m:\u001b[36mprecision_recall_f1\u001b[0m:\u001b[36m626\u001b[0m - \u001b[31m\u001b[1mPermutation explosion: got 116280.0 combinations from 1 pair groups\u001b[0m\n",
      "\u001b[32m2025-05-04 17:22:05.160\u001b[0m | \u001b[1mINFO    \u001b[0m | \u001b[36msm.evaluation.sm_metrics\u001b[0m:\u001b[36mprecision_recall_f1\u001b[0m:\u001b[36m632\u001b[0m - \u001b[1m- [(label=http://wikiba.se/ontology#Statement, X=(#nodes=4), X_prime=(#nodes=20))]\u001b[0m\n",
      "\u001b[32m2025-05-04 17:22:05.256\u001b[0m | \u001b[1mINFO    \u001b[0m | \u001b[36msm.evaluation.sm_metrics\u001b[0m:\u001b[36mprecision_recall_f1\u001b[0m:\u001b[36m620\u001b[0m - \u001b[1mNumber of permutation is: 154440.0\u001b[0m\n",
      "\u001b[32m2025-05-04 17:22:05.256\u001b[0m | \u001b[31m\u001b[1mERROR   \u001b[0m | \u001b[36msm.evaluation.sm_metrics\u001b[0m:\u001b[36mprecision_recall_f1\u001b[0m:\u001b[36m626\u001b[0m - \u001b[31m\u001b[1mPermutation explosion: got 154440.0 combinations from 1 pair groups\u001b[0m\n",
      "\u001b[32m2025-05-04 17:22:05.256\u001b[0m | \u001b[1mINFO    \u001b[0m | \u001b[36msm.evaluation.sm_metrics\u001b[0m:\u001b[36mprecision_recall_f1\u001b[0m:\u001b[36m632\u001b[0m - \u001b[1m- [(label=http://wikiba.se/ontology#Statement, X=(#nodes=5), X_prime=(#nodes=13))]\u001b[0m\n",
      "\u001b[32m2025-05-04 17:22:05.260\u001b[0m | \u001b[1mINFO    \u001b[0m | \u001b[36msm.evaluation.sm_metrics\u001b[0m:\u001b[36mprecision_recall_f1\u001b[0m:\u001b[36m620\u001b[0m - \u001b[1mNumber of permutation is: 116280.0\u001b[0m\n",
      "\u001b[32m2025-05-04 17:22:05.261\u001b[0m | \u001b[31m\u001b[1mERROR   \u001b[0m | \u001b[36msm.evaluation.sm_metrics\u001b[0m:\u001b[36mprecision_recall_f1\u001b[0m:\u001b[36m626\u001b[0m - \u001b[31m\u001b[1mPermutation explosion: got 116280.0 combinations from 1 pair groups\u001b[0m\n",
      "\u001b[32m2025-05-04 17:22:05.261\u001b[0m | \u001b[1mINFO    \u001b[0m | \u001b[36msm.evaluation.sm_metrics\u001b[0m:\u001b[36mprecision_recall_f1\u001b[0m:\u001b[36m632\u001b[0m - \u001b[1m- [(label=http://wikiba.se/ontology#Statement, X=(#nodes=4), X_prime=(#nodes=20))]\u001b[0m\n",
      "\u001b[32m2025-05-04 17:22:05.263\u001b[0m | \u001b[1mINFO    \u001b[0m | \u001b[36msm.evaluation.sm_metrics\u001b[0m:\u001b[36mprecision_recall_f1\u001b[0m:\u001b[36m620\u001b[0m - \u001b[1mNumber of permutation is: 27907200.0\u001b[0m\n",
      "\u001b[32m2025-05-04 17:22:05.263\u001b[0m | \u001b[31m\u001b[1mERROR   \u001b[0m | \u001b[36msm.evaluation.sm_metrics\u001b[0m:\u001b[36mprecision_recall_f1\u001b[0m:\u001b[36m626\u001b[0m - \u001b[31m\u001b[1mPermutation explosion: got 27907200.0 combinations from 1 pair groups\u001b[0m\n",
      "\u001b[32m2025-05-04 17:22:05.263\u001b[0m | \u001b[1mINFO    \u001b[0m | \u001b[36msm.evaluation.sm_metrics\u001b[0m:\u001b[36mprecision_recall_f1\u001b[0m:\u001b[36m632\u001b[0m - \u001b[1m- [(label=http://wikiba.se/ontology#Statement, X=(#nodes=6), X_prime=(#nodes=20))]\u001b[0m\n",
      "\u001b[32m2025-05-04 17:22:05.264\u001b[0m | \u001b[1mINFO    \u001b[0m | \u001b[36msm.evaluation.sm_metrics\u001b[0m:\u001b[36mprecision_recall_f1\u001b[0m:\u001b[36m620\u001b[0m - \u001b[1mNumber of permutation is: 390700800.0\u001b[0m\n",
      "\u001b[32m2025-05-04 17:22:05.264\u001b[0m | \u001b[31m\u001b[1mERROR   \u001b[0m | \u001b[36msm.evaluation.sm_metrics\u001b[0m:\u001b[36mprecision_recall_f1\u001b[0m:\u001b[36m626\u001b[0m - \u001b[31m\u001b[1mPermutation explosion: got 390700800.0 combinations from 1 pair groups\u001b[0m\n",
      "\u001b[32m2025-05-04 17:22:05.265\u001b[0m | \u001b[1mINFO    \u001b[0m | \u001b[36msm.evaluation.sm_metrics\u001b[0m:\u001b[36mprecision_recall_f1\u001b[0m:\u001b[36m632\u001b[0m - \u001b[1m- [(label=http://wikiba.se/ontology#Statement, X=(#nodes=7), X_prime=(#nodes=20))]\u001b[0m\n",
      "\u001b[32m2025-05-04 17:22:05.265\u001b[0m | \u001b[1mINFO    \u001b[0m | \u001b[36msm.evaluation.sm_metrics\u001b[0m:\u001b[36mprecision_recall_f1\u001b[0m:\u001b[36m620\u001b[0m - \u001b[1mNumber of permutation is: 390700800.0\u001b[0m\n",
      "\u001b[32m2025-05-04 17:22:05.266\u001b[0m | \u001b[31m\u001b[1mERROR   \u001b[0m | \u001b[36msm.evaluation.sm_metrics\u001b[0m:\u001b[36mprecision_recall_f1\u001b[0m:\u001b[36m626\u001b[0m - \u001b[31m\u001b[1mPermutation explosion: got 390700800.0 combinations from 1 pair groups\u001b[0m\n",
      "\u001b[32m2025-05-04 17:22:05.266\u001b[0m | \u001b[1mINFO    \u001b[0m | \u001b[36msm.evaluation.sm_metrics\u001b[0m:\u001b[36mprecision_recall_f1\u001b[0m:\u001b[36m632\u001b[0m - \u001b[1m- [(label=http://wikiba.se/ontology#Statement, X=(#nodes=7), X_prime=(#nodes=20))]\u001b[0m\n",
      "\u001b[32m2025-05-04 17:22:05.268\u001b[0m | \u001b[1mINFO    \u001b[0m | \u001b[36mgp.misc.evaluation.evaluator\u001b[0m:\u001b[36mavg_cpa\u001b[0m:\u001b[36m78\u001b[0m - \u001b[1mfor copying...\n",
      "\tcpa-p\tcpa-r\tcpa-f1\n",
      "19.49,45.04,25.69\u001b[0m\n"
     ]
    }
   ],
   "source": [
    "ctas = evaluator.avg_cta(examples, [x[\"sm\"][0].value for x in output])\n",
    "cpas = evaluator.avg_cpa(examples, [x[\"sm\"][0].value for x in output])"
   ]
  },
  {
   "cell_type": "code",
   "execution_count": null,
   "metadata": {},
   "outputs": [
    {
     "data": {
      "text/plain": [
       "CTAEvalOutput(precision=0.5, recall=0.5, f1=0.5, n_corrects=1.5, n_examples=3, n_predictions=3)"
      ]
     },
     "execution_count": 26,
     "metadata": {},
     "output_type": "execute_result"
    }
   ],
   "source": [
    "cta"
   ]
  }
 ],
 "metadata": {
  "kernelspec": {
   "display_name": ".venv",
   "language": "python",
   "name": "python3"
  },
  "language_info": {
   "codemirror_mode": {
    "name": "ipython",
    "version": 3
   },
   "file_extension": ".py",
   "mimetype": "text/x-python",
   "name": "python",
   "nbconvert_exporter": "python",
   "pygments_lexer": "ipython3",
   "version": "3.12.10"
  }
 },
 "nbformat": 4,
 "nbformat_minor": 2
}
