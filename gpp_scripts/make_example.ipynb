{
 "cells": [
  {
   "cell_type": "code",
   "execution_count": 1,
   "id": "75982e70",
   "metadata": {},
   "outputs": [],
   "source": [
    "from __future__ import annotations\n",
    "\n",
    "import serde.csv\n",
    "import serde.jl\n",
    "from gpp.sem_label.feats import GetExamplesArgs, get_examples\n",
    "from gpp.sem_label.feats._example import get_class_examples, get_prop_examples\n",
    "from kgdata.wikidata.config import WikidataDirCfg\n",
    "from kgdata.wikipedia.config import WikipediaDirCfg\n",
    "from libactor.cache import IdentObj\n",
    "from libactor.storage import GlobalStorage\n",
    "from sm.namespaces.utils import KGName\n",
    "\n",
    "from experiments.config import DATA_DIR, LIBACTOR_STORAGE_DIR\n",
    "from experiments.dag import create_data_actor"
   ]
  },
  {
   "cell_type": "code",
   "execution_count": 2,
   "id": "28dafaac",
   "metadata": {},
   "outputs": [
    {
     "name": "stderr",
     "output_type": "stream",
     "text": [
      "\u001b[32m2025-05-09 08:29:29.794\u001b[0m | \u001b[1mINFO    \u001b[0m | \u001b[36mlibactor.storage._global_storage\u001b[0m:\u001b[36minit\u001b[0m:\u001b[36m41\u001b[0m - \u001b[1mGlobalStorage: /Users/rook/workspace/projects/resm-v2/data/libactor\u001b[0m\n"
     ]
    }
   ],
   "source": [
    "GlobalStorage.init(LIBACTOR_STORAGE_DIR)\n",
    "data_actor = create_data_actor()\n",
    "kgdb = data_actor.db_actor.kgdbs[KGName.Wikidata]\n",
    "ident_kgdb = IdentObj(kgdb.args.get_key(), kgdb)"
   ]
  },
  {
   "cell_type": "code",
   "execution_count": 3,
   "id": "4b3efe63",
   "metadata": {},
   "outputs": [
    {
     "name": "stderr",
     "output_type": "stream",
     "text": [
      "\u001b[32m2025-05-09 08:29:34.527\u001b[0m | \u001b[1mINFO    \u001b[0m | \u001b[36mkgdata.wikidata.config\u001b[0m:\u001b[36minit\u001b[0m:\u001b[36m136\u001b[0m - \u001b[1mWikidata directory: /Users/rook/workspace/projects/resm-v2/data/kgdata/wikidata/20240320\u001b[0m\n",
      "\u001b[32m2025-05-09 08:29:34.528\u001b[0m | \u001b[1mINFO    \u001b[0m | \u001b[36mkgdata.wikipedia.config\u001b[0m:\u001b[36minit\u001b[0m:\u001b[36m69\u001b[0m - \u001b[1mWikipedia directory: /Users/rook/workspace/projects/resm-v2/data/kgdata/wikipedia/20230620\u001b[0m\n"
     ]
    },
    {
     "data": {
      "text/plain": [
       "<kgdata.wikipedia.config.WikipediaDirCfg at 0x177c29e80>"
      ]
     },
     "execution_count": 3,
     "metadata": {},
     "output_type": "execute_result"
    }
   ],
   "source": [
    "WikidataDirCfg.init(DATA_DIR / \"kgdata/wikidata/20240320\")\n",
    "WikipediaDirCfg.init(DATA_DIR / \"kgdata/wikipedia/20230620\")"
   ]
  },
  {
   "cell_type": "code",
   "execution_count": null,
   "id": "07ac33c2",
   "metadata": {},
   "outputs": [],
   "source": []
  }
 ],
 "metadata": {
  "kernelspec": {
   "display_name": ".venv",
   "language": "python",
   "name": "python3"
  },
  "language_info": {
   "codemirror_mode": {
    "name": "ipython",
    "version": 3
   },
   "file_extension": ".py",
   "mimetype": "text/x-python",
   "name": "python",
   "nbconvert_exporter": "python",
   "pygments_lexer": "ipython3",
   "version": "3.12.10"
  }
 },
 "nbformat": 4,
 "nbformat_minor": 5
}
